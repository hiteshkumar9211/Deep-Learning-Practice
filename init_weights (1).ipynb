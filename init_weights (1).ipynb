{
  "nbformat": 4,
  "nbformat_minor": 0,
  "metadata": {
    "colab": {
      "provenance": []
    },
    "kernelspec": {
      "name": "python3",
      "display_name": "Python 3"
    },
    "language_info": {
      "name": "python"
    }
  },
  "cells": [
    {
      "cell_type": "code",
      "execution_count": 1,
      "metadata": {
        "id": "tvRjYFLgkSLO"
      },
      "outputs": [],
      "source": [
        "import numpy as np\n",
        "import pandas as pd\n",
        "import matplotlib.pyplot as plt\n"
      ]
    },
    {
      "cell_type": "code",
      "source": [
        "df = pd.read_csv('https://raw.githubusercontent.com/Adityarajora/Complete-KNN-visualization/refs/heads/master/1.ushape.csv')"
      ],
      "metadata": {
        "id": "3O067W6MkmWv"
      },
      "execution_count": 2,
      "outputs": []
    },
    {
      "cell_type": "code",
      "source": [
        "df.head()"
      ],
      "metadata": {
        "colab": {
          "base_uri": "https://localhost:8080/",
          "height": 206
        },
        "id": "ORHJ62KXktaV",
        "outputId": "9940d639-627f-4802-c9ae-6b51e1461966"
      },
      "execution_count": 3,
      "outputs": [
        {
          "output_type": "execute_result",
          "data": {
            "text/plain": [
              "   3.159499363321345566e-02  9.869877579082642072e-01  \\\n",
              "0                  2.115098                 -0.046244   \n",
              "1                  0.882490                 -0.075756   \n",
              "2                 -0.055144                 -0.037332   \n",
              "3                  0.829545                 -0.539321   \n",
              "4                  2.112857                  0.662084   \n",
              "\n",
              "   0.000000000000000000e+00  \n",
              "0                       1.0  \n",
              "1                       0.0  \n",
              "2                       1.0  \n",
              "3                       1.0  \n",
              "4                       1.0  "
            ],
            "text/html": [
              "\n",
              "  <div id=\"df-fe70a38b-3e5b-45cb-977c-01bf026e958d\" class=\"colab-df-container\">\n",
              "    <div>\n",
              "<style scoped>\n",
              "    .dataframe tbody tr th:only-of-type {\n",
              "        vertical-align: middle;\n",
              "    }\n",
              "\n",
              "    .dataframe tbody tr th {\n",
              "        vertical-align: top;\n",
              "    }\n",
              "\n",
              "    .dataframe thead th {\n",
              "        text-align: right;\n",
              "    }\n",
              "</style>\n",
              "<table border=\"1\" class=\"dataframe\">\n",
              "  <thead>\n",
              "    <tr style=\"text-align: right;\">\n",
              "      <th></th>\n",
              "      <th>3.159499363321345566e-02</th>\n",
              "      <th>9.869877579082642072e-01</th>\n",
              "      <th>0.000000000000000000e+00</th>\n",
              "    </tr>\n",
              "  </thead>\n",
              "  <tbody>\n",
              "    <tr>\n",
              "      <th>0</th>\n",
              "      <td>2.115098</td>\n",
              "      <td>-0.046244</td>\n",
              "      <td>1.0</td>\n",
              "    </tr>\n",
              "    <tr>\n",
              "      <th>1</th>\n",
              "      <td>0.882490</td>\n",
              "      <td>-0.075756</td>\n",
              "      <td>0.0</td>\n",
              "    </tr>\n",
              "    <tr>\n",
              "      <th>2</th>\n",
              "      <td>-0.055144</td>\n",
              "      <td>-0.037332</td>\n",
              "      <td>1.0</td>\n",
              "    </tr>\n",
              "    <tr>\n",
              "      <th>3</th>\n",
              "      <td>0.829545</td>\n",
              "      <td>-0.539321</td>\n",
              "      <td>1.0</td>\n",
              "    </tr>\n",
              "    <tr>\n",
              "      <th>4</th>\n",
              "      <td>2.112857</td>\n",
              "      <td>0.662084</td>\n",
              "      <td>1.0</td>\n",
              "    </tr>\n",
              "  </tbody>\n",
              "</table>\n",
              "</div>\n",
              "    <div class=\"colab-df-buttons\">\n",
              "\n",
              "  <div class=\"colab-df-container\">\n",
              "    <button class=\"colab-df-convert\" onclick=\"convertToInteractive('df-fe70a38b-3e5b-45cb-977c-01bf026e958d')\"\n",
              "            title=\"Convert this dataframe to an interactive table.\"\n",
              "            style=\"display:none;\">\n",
              "\n",
              "  <svg xmlns=\"http://www.w3.org/2000/svg\" height=\"24px\" viewBox=\"0 -960 960 960\">\n",
              "    <path d=\"M120-120v-720h720v720H120Zm60-500h600v-160H180v160Zm220 220h160v-160H400v160Zm0 220h160v-160H400v160ZM180-400h160v-160H180v160Zm440 0h160v-160H620v160ZM180-180h160v-160H180v160Zm440 0h160v-160H620v160Z\"/>\n",
              "  </svg>\n",
              "    </button>\n",
              "\n",
              "  <style>\n",
              "    .colab-df-container {\n",
              "      display:flex;\n",
              "      gap: 12px;\n",
              "    }\n",
              "\n",
              "    .colab-df-convert {\n",
              "      background-color: #E8F0FE;\n",
              "      border: none;\n",
              "      border-radius: 50%;\n",
              "      cursor: pointer;\n",
              "      display: none;\n",
              "      fill: #1967D2;\n",
              "      height: 32px;\n",
              "      padding: 0 0 0 0;\n",
              "      width: 32px;\n",
              "    }\n",
              "\n",
              "    .colab-df-convert:hover {\n",
              "      background-color: #E2EBFA;\n",
              "      box-shadow: 0px 1px 2px rgba(60, 64, 67, 0.3), 0px 1px 3px 1px rgba(60, 64, 67, 0.15);\n",
              "      fill: #174EA6;\n",
              "    }\n",
              "\n",
              "    .colab-df-buttons div {\n",
              "      margin-bottom: 4px;\n",
              "    }\n",
              "\n",
              "    [theme=dark] .colab-df-convert {\n",
              "      background-color: #3B4455;\n",
              "      fill: #D2E3FC;\n",
              "    }\n",
              "\n",
              "    [theme=dark] .colab-df-convert:hover {\n",
              "      background-color: #434B5C;\n",
              "      box-shadow: 0px 1px 3px 1px rgba(0, 0, 0, 0.15);\n",
              "      filter: drop-shadow(0px 1px 2px rgba(0, 0, 0, 0.3));\n",
              "      fill: #FFFFFF;\n",
              "    }\n",
              "  </style>\n",
              "\n",
              "    <script>\n",
              "      const buttonEl =\n",
              "        document.querySelector('#df-fe70a38b-3e5b-45cb-977c-01bf026e958d button.colab-df-convert');\n",
              "      buttonEl.style.display =\n",
              "        google.colab.kernel.accessAllowed ? 'block' : 'none';\n",
              "\n",
              "      async function convertToInteractive(key) {\n",
              "        const element = document.querySelector('#df-fe70a38b-3e5b-45cb-977c-01bf026e958d');\n",
              "        const dataTable =\n",
              "          await google.colab.kernel.invokeFunction('convertToInteractive',\n",
              "                                                    [key], {});\n",
              "        if (!dataTable) return;\n",
              "\n",
              "        const docLinkHtml = 'Like what you see? Visit the ' +\n",
              "          '<a target=\"_blank\" href=https://colab.research.google.com/notebooks/data_table.ipynb>data table notebook</a>'\n",
              "          + ' to learn more about interactive tables.';\n",
              "        element.innerHTML = '';\n",
              "        dataTable['output_type'] = 'display_data';\n",
              "        await google.colab.output.renderOutput(dataTable, element);\n",
              "        const docLink = document.createElement('div');\n",
              "        docLink.innerHTML = docLinkHtml;\n",
              "        element.appendChild(docLink);\n",
              "      }\n",
              "    </script>\n",
              "  </div>\n",
              "\n",
              "\n",
              "<div id=\"df-bf4b225e-c3c7-445a-b4cf-9a6e77e60cab\">\n",
              "  <button class=\"colab-df-quickchart\" onclick=\"quickchart('df-bf4b225e-c3c7-445a-b4cf-9a6e77e60cab')\"\n",
              "            title=\"Suggest charts\"\n",
              "            style=\"display:none;\">\n",
              "\n",
              "<svg xmlns=\"http://www.w3.org/2000/svg\" height=\"24px\"viewBox=\"0 0 24 24\"\n",
              "     width=\"24px\">\n",
              "    <g>\n",
              "        <path d=\"M19 3H5c-1.1 0-2 .9-2 2v14c0 1.1.9 2 2 2h14c1.1 0 2-.9 2-2V5c0-1.1-.9-2-2-2zM9 17H7v-7h2v7zm4 0h-2V7h2v10zm4 0h-2v-4h2v4z\"/>\n",
              "    </g>\n",
              "</svg>\n",
              "  </button>\n",
              "\n",
              "<style>\n",
              "  .colab-df-quickchart {\n",
              "      --bg-color: #E8F0FE;\n",
              "      --fill-color: #1967D2;\n",
              "      --hover-bg-color: #E2EBFA;\n",
              "      --hover-fill-color: #174EA6;\n",
              "      --disabled-fill-color: #AAA;\n",
              "      --disabled-bg-color: #DDD;\n",
              "  }\n",
              "\n",
              "  [theme=dark] .colab-df-quickchart {\n",
              "      --bg-color: #3B4455;\n",
              "      --fill-color: #D2E3FC;\n",
              "      --hover-bg-color: #434B5C;\n",
              "      --hover-fill-color: #FFFFFF;\n",
              "      --disabled-bg-color: #3B4455;\n",
              "      --disabled-fill-color: #666;\n",
              "  }\n",
              "\n",
              "  .colab-df-quickchart {\n",
              "    background-color: var(--bg-color);\n",
              "    border: none;\n",
              "    border-radius: 50%;\n",
              "    cursor: pointer;\n",
              "    display: none;\n",
              "    fill: var(--fill-color);\n",
              "    height: 32px;\n",
              "    padding: 0;\n",
              "    width: 32px;\n",
              "  }\n",
              "\n",
              "  .colab-df-quickchart:hover {\n",
              "    background-color: var(--hover-bg-color);\n",
              "    box-shadow: 0 1px 2px rgba(60, 64, 67, 0.3), 0 1px 3px 1px rgba(60, 64, 67, 0.15);\n",
              "    fill: var(--button-hover-fill-color);\n",
              "  }\n",
              "\n",
              "  .colab-df-quickchart-complete:disabled,\n",
              "  .colab-df-quickchart-complete:disabled:hover {\n",
              "    background-color: var(--disabled-bg-color);\n",
              "    fill: var(--disabled-fill-color);\n",
              "    box-shadow: none;\n",
              "  }\n",
              "\n",
              "  .colab-df-spinner {\n",
              "    border: 2px solid var(--fill-color);\n",
              "    border-color: transparent;\n",
              "    border-bottom-color: var(--fill-color);\n",
              "    animation:\n",
              "      spin 1s steps(1) infinite;\n",
              "  }\n",
              "\n",
              "  @keyframes spin {\n",
              "    0% {\n",
              "      border-color: transparent;\n",
              "      border-bottom-color: var(--fill-color);\n",
              "      border-left-color: var(--fill-color);\n",
              "    }\n",
              "    20% {\n",
              "      border-color: transparent;\n",
              "      border-left-color: var(--fill-color);\n",
              "      border-top-color: var(--fill-color);\n",
              "    }\n",
              "    30% {\n",
              "      border-color: transparent;\n",
              "      border-left-color: var(--fill-color);\n",
              "      border-top-color: var(--fill-color);\n",
              "      border-right-color: var(--fill-color);\n",
              "    }\n",
              "    40% {\n",
              "      border-color: transparent;\n",
              "      border-right-color: var(--fill-color);\n",
              "      border-top-color: var(--fill-color);\n",
              "    }\n",
              "    60% {\n",
              "      border-color: transparent;\n",
              "      border-right-color: var(--fill-color);\n",
              "    }\n",
              "    80% {\n",
              "      border-color: transparent;\n",
              "      border-right-color: var(--fill-color);\n",
              "      border-bottom-color: var(--fill-color);\n",
              "    }\n",
              "    90% {\n",
              "      border-color: transparent;\n",
              "      border-bottom-color: var(--fill-color);\n",
              "    }\n",
              "  }\n",
              "</style>\n",
              "\n",
              "  <script>\n",
              "    async function quickchart(key) {\n",
              "      const quickchartButtonEl =\n",
              "        document.querySelector('#' + key + ' button');\n",
              "      quickchartButtonEl.disabled = true;  // To prevent multiple clicks.\n",
              "      quickchartButtonEl.classList.add('colab-df-spinner');\n",
              "      try {\n",
              "        const charts = await google.colab.kernel.invokeFunction(\n",
              "            'suggestCharts', [key], {});\n",
              "      } catch (error) {\n",
              "        console.error('Error during call to suggestCharts:', error);\n",
              "      }\n",
              "      quickchartButtonEl.classList.remove('colab-df-spinner');\n",
              "      quickchartButtonEl.classList.add('colab-df-quickchart-complete');\n",
              "    }\n",
              "    (() => {\n",
              "      let quickchartButtonEl =\n",
              "        document.querySelector('#df-bf4b225e-c3c7-445a-b4cf-9a6e77e60cab button');\n",
              "      quickchartButtonEl.style.display =\n",
              "        google.colab.kernel.accessAllowed ? 'block' : 'none';\n",
              "    })();\n",
              "  </script>\n",
              "</div>\n",
              "\n",
              "    </div>\n",
              "  </div>\n"
            ],
            "application/vnd.google.colaboratory.intrinsic+json": {
              "type": "dataframe",
              "variable_name": "df",
              "summary": "{\n  \"name\": \"df\",\n  \"rows\": 99,\n  \"fields\": [\n    {\n      \"column\": \"3.159499363321345566e-02\",\n      \"properties\": {\n        \"dtype\": \"number\",\n        \"std\": 0.8943130566096504,\n        \"min\": -1.318500344394381,\n        \"max\": 2.181371683049025,\n        \"num_unique_values\": 99,\n        \"samples\": [\n          0.1273314190904385,\n          0.6417403675063451,\n          0.21862323352500593\n        ],\n        \"semantic_type\": \"\",\n        \"description\": \"\"\n      }\n    },\n    {\n      \"column\": \"9.869877579082642072e-01\",\n      \"properties\": {\n        \"dtype\": \"number\",\n        \"std\": 0.5909086142970597,\n        \"min\": -1.0357020680498332,\n        \"max\": 1.5718993127141032,\n        \"num_unique_values\": 99,\n        \"samples\": [\n          -0.3796548967118949,\n          -0.39369468370639576,\n          -0.6525211867631453\n        ],\n        \"semantic_type\": \"\",\n        \"description\": \"\"\n      }\n    },\n    {\n      \"column\": \"0.000000000000000000e+00\",\n      \"properties\": {\n        \"dtype\": \"number\",\n        \"std\": 0.502518907629606,\n        \"min\": 0.0,\n        \"max\": 1.0,\n        \"num_unique_values\": 2,\n        \"samples\": [\n          0.0,\n          1.0\n        ],\n        \"semantic_type\": \"\",\n        \"description\": \"\"\n      }\n    }\n  ]\n}"
            }
          },
          "metadata": {},
          "execution_count": 3
        }
      ]
    },
    {
      "cell_type": "code",
      "source": [
        "plt.scatter(x=df['3.159499363321345566e-02'],y=df['9.869877579082642072e-01'],c=df['0.000000000000000000e+00'])\n",
        "plt.xlabel('x')\n",
        "plt.ylabel('y')"
      ],
      "metadata": {
        "colab": {
          "base_uri": "https://localhost:8080/",
          "height": 466
        },
        "id": "W3v4kqM4kxzo",
        "outputId": "bbf5b6db-f3d8-4d1c-de2a-0be4aa642e1a"
      },
      "execution_count": 7,
      "outputs": [
        {
          "output_type": "execute_result",
          "data": {
            "text/plain": [
              "Text(0, 0.5, 'y')"
            ]
          },
          "metadata": {},
          "execution_count": 7
        },
        {
          "output_type": "display_data",
          "data": {
            "text/plain": [
              "<Figure size 640x480 with 1 Axes>"
            ],
            "image/png": "[encoded data removed]"
          },
          "metadata": {}
        }
      ]
    },
    {
      "cell_type": "code",
      "source": [
        "X = df.iloc[:,0:2].values\n",
        "y = df.iloc[:,-1].values\n"
      ],
      "metadata": {
        "id": "-Ru_aIvUl9h4"
      },
      "execution_count": 8,
      "outputs": []
    },
    {
      "cell_type": "code",
      "source": [
        "X"
      ],
      "metadata": {
        "colab": {
          "base_uri": "https://localhost:8080/"
        },
        "id": "-te-ETWemQkW",
        "outputId": "b250032b-bd6e-4636-bbc2-c18c6bb60247"
      },
      "execution_count": 9,
      "outputs": [
        {
          "output_type": "execute_result",
          "data": {
            "text/plain": [
              "array([[ 2.11509784, -0.04624397],\n",
              "       [ 0.88248972, -0.07575606],\n",
              "       [-0.0551441 , -0.03733246],\n",
              "       [ 0.82954503, -0.53932149],\n",
              "       [ 2.11285708,  0.66208353],\n",
              "       [ 0.5696927 ,  0.33744136],\n",
              "       [ 0.95217454, -0.75307471],\n",
              "       [-0.02922115,  0.39287336],\n",
              "       [ 1.71579557,  0.36069454],\n",
              "       [-0.27883014,  0.61420539],\n",
              "       [ 2.00344509, -0.3091496 ],\n",
              "       [ 1.50009616, -0.74636376],\n",
              "       [ 1.22540835,  1.19793017],\n",
              "       [ 0.46730819,  0.54703192],\n",
              "       [-0.36653222,  1.11971633],\n",
              "       [ 0.30124459,  1.23315697],\n",
              "       [ 0.30430746,  0.82373935],\n",
              "       [-0.23712492,  0.77876034],\n",
              "       [ 1.16339832,  0.55290238],\n",
              "       [-0.59702417,  0.6572361 ],\n",
              "       [ 0.46356735, -0.1951543 ],\n",
              "       [ 0.68451111,  0.75287685],\n",
              "       [ 0.70515699, -0.45892444],\n",
              "       [-0.65805008, -0.12944211],\n",
              "       [-0.74662946, -0.3829632 ],\n",
              "       [ 0.60585226,  0.31252842],\n",
              "       [ 2.18137168, -0.02291747],\n",
              "       [ 1.91980633,  0.17247329],\n",
              "       [ 1.4834364 , -0.10517023],\n",
              "       [ 0.47404723, -0.14575067],\n",
              "       [ 1.05614605, -1.03570207],\n",
              "       [ 1.86500732, -0.01107874],\n",
              "       [ 0.4194721 , -0.32478101],\n",
              "       [ 0.06873258,  0.56648467],\n",
              "       [-0.17332432,  1.00215131],\n",
              "       [ 0.12412421,  1.00062892],\n",
              "       [ 0.18121142,  0.24717743],\n",
              "       [-0.25451559,  0.19317272],\n",
              "       [ 1.02580668, -0.62574566],\n",
              "       [ 1.52002143, -0.04515581],\n",
              "       [ 0.64174037, -0.39369468],\n",
              "       [-0.87615589,  0.0465662 ],\n",
              "       [-1.06964997,  0.13666025],\n",
              "       [ 1.02658765,  0.37782458],\n",
              "       [ 0.93131325,  1.38517841],\n",
              "       [ 0.67680544,  1.57189931],\n",
              "       [-0.36885733,  0.72886601],\n",
              "       [-1.02465495,  0.16190215],\n",
              "       [ 0.77455385,  0.15375803],\n",
              "       [ 1.4045116 , -0.00705701],\n",
              "       [-0.38147174, -0.23488747],\n",
              "       [ 0.72155224,  0.44721658],\n",
              "       [-0.51346686,  0.67869095],\n",
              "       [ 0.32118546,  0.28668667],\n",
              "       [ 0.1953628 ,  0.16085107],\n",
              "       [ 0.52824196,  0.98300993],\n",
              "       [-0.2216539 ,  0.25160139],\n",
              "       [ 0.22334676,  1.32217183],\n",
              "       [-0.10704572,  0.56178326],\n",
              "       [ 0.63651685,  0.75444825],\n",
              "       [-0.37227848,  0.99291317],\n",
              "       [ 0.20718083, -0.09767143],\n",
              "       [ 0.12733142, -0.3796549 ],\n",
              "       [ 0.71435231, -0.79994161],\n",
              "       [ 1.09487814, -0.36841845],\n",
              "       [-0.14814362,  0.96158657],\n",
              "       [ 1.586188  , -0.62984517],\n",
              "       [ 0.74444551,  0.57661371],\n",
              "       [ 2.18011028, -0.69977751],\n",
              "       [ 0.24575594,  0.8496383 ],\n",
              "       [-0.95003581,  0.90361699],\n",
              "       [-0.88230758,  0.07249044],\n",
              "       [ 2.02297079,  0.12325148],\n",
              "       [ 2.14577321,  0.46296362],\n",
              "       [ 0.35536468, -0.67847989],\n",
              "       [ 0.34665026,  1.11570676],\n",
              "       [ 1.7392373 ,  0.45900352],\n",
              "       [ 0.63856467, -0.44718443],\n",
              "       [ 1.2876687 , -0.4910366 ],\n",
              "       [-0.13772607,  1.2453262 ],\n",
              "       [-0.56175303,  1.05486051],\n",
              "       [ 1.29003748, -0.20691405],\n",
              "       [-0.87539365,  0.50543423],\n",
              "       [-0.92858249, -0.45631991],\n",
              "       [ 0.02493632,  0.10747958],\n",
              "       [ 0.1972559 , -0.06801668],\n",
              "       [ 0.73346056,  0.28161929],\n",
              "       [ 1.68294434, -0.2020423 ],\n",
              "       [ 0.50764124, -0.11731979],\n",
              "       [ 1.66760217, -0.42485665],\n",
              "       [-0.82172282,  0.63141066],\n",
              "       [ 0.30170903,  0.78603534],\n",
              "       [ 1.37671505, -0.80915107],\n",
              "       [ 1.17037551,  0.59840653],\n",
              "       [ 1.69945309,  0.58771967],\n",
              "       [ 0.21862323, -0.65252119],\n",
              "       [ 0.95291428, -0.41976564],\n",
              "       [-1.31850034,  0.42311235],\n",
              "       [-1.29681764,  0.18414709]])"
            ]
          },
          "metadata": {},
          "execution_count": 9
        }
      ]
    },
    {
      "cell_type": "code",
      "source": [
        "y"
      ],
      "metadata": {
        "colab": {
          "base_uri": "https://localhost:8080/"
        },
        "id": "fFZE822zmSCL",
        "outputId": "0fe4c2c2-3281-4e57-a293-8247d8f3be07"
      },
      "execution_count": 10,
      "outputs": [
        {
          "output_type": "execute_result",
          "data": {
            "text/plain": [
              "array([1., 0., 1., 1., 1., 0., 1., 1., 1., 1., 1., 1., 0., 0., 0., 0., 0.,\n",
              "       0., 0., 0., 1., 0., 1., 0., 0., 0., 1., 1., 1., 1., 1., 1., 1., 1.,\n",
              "       0., 0., 1., 1., 1., 0., 1., 0., 0., 0., 0., 0., 0., 0., 0., 1., 1.,\n",
              "       0., 0., 0., 1., 0., 0., 0., 1., 0., 0., 1., 1., 1., 1., 0., 1., 0.,\n",
              "       1., 0., 0., 0., 1., 1., 1., 0., 1., 1., 1., 0., 0., 1., 0., 0., 1.,\n",
              "       1., 0., 1., 1., 1., 0., 0., 1., 0., 1., 1., 1., 0., 0.])"
            ]
          },
          "metadata": {},
          "execution_count": 10
        }
      ]
    },
    {
      "cell_type": "code",
      "source": [
        "import tensorflow\n",
        "from tensorflow import keras\n",
        "from keras import Sequential\n",
        "from keras.layers import Dense"
      ],
      "metadata": {
        "id": "8Q4n76rYmWW9"
      },
      "execution_count": 11,
      "outputs": []
    },
    {
      "cell_type": "code",
      "source": [
        "model = Sequential()\n",
        "\n",
        "model.add(Dense(10,activation='relu',input_dim=2,kernel_initializer='he_normal'))\n",
        "model.add(Dense(10,activation='relu',kernel_initializer='he_normal'))\n",
        "model.add(Dense(10,activation='relu',kernel_initializer='he_normal'))\n",
        "model.add(Dense(10,activation='relu',kernel_initializer='he_normal'))\n",
        "model.add(Dense(1,activation='sigmoid'))"
      ],
      "metadata": {
        "colab": {
          "base_uri": "https://localhost:8080/"
        },
        "id": "7qUGPnjCml_Z",
        "outputId": "6ab21a30-c6ba-4101-ab73-f446d31fc1dc"
      },
      "execution_count": 12,
      "outputs": [
        {
          "output_type": "stream",
          "name": "stderr",
          "text": [
            "/usr/local/lib/python3.10/dist-packages/keras/src/layers/core/dense.py:87: UserWarning: Do not pass an `input_shape`/`input_dim` argument to a layer. When using Sequential models, prefer using an `Input(shape)` object as the first layer in the model instead.\n",
            "  super().__init__(activity_regularizer=activity_regularizer, **kwargs)\n"
          ]
        }
      ]
    },
    {
      "cell_type": "code",
      "source": [
        "model.summary()"
      ],
      "metadata": {
        "colab": {
          "base_uri": "https://localhost:8080/",
          "height": 289
        },
        "id": "PDWoknfRmr6t",
        "outputId": "ac19ce6e-e41a-49ee-e54a-064ffa2e7dc9"
      },
      "execution_count": 13,
      "outputs": [
        {
          "output_type": "display_data",
          "data": {
            "text/plain": [
              "\u001b[1mModel: \"sequential\"\u001b[0m\n"
            ],
            "text/html": [
              "<pre style=\"white-space:pre;overflow-x:auto;line-height:normal;font-family:Menlo,'DejaVu Sans Mono',consolas,'Courier New',monospace\"><span style=\"font-weight: bold\">Model: \"sequential\"</span>\n",
              "</pre>\n"
            ]
          },
          "metadata": {}
        },
        {
          "output_type": "display_data",
          "data": {
            "text/plain": [
              "┏━━━━━━━━━━━━━━━━━━━━━━━━━━━━━━━━━━━━━━┳━━━━━━━━━━━━━━━━━━━━━━━━━━━━━┳━━━━━━━━━━━━━━━━━┓\n",
              "┃\u001b[1m \u001b[0m\u001b[1mLayer (type)                        \u001b[0m\u001b[1m \u001b[0m┃\u001b[1m \u001b[0m\u001b[1mOutput Shape               \u001b[0m\u001b[1m \u001b[0m┃\u001b[1m \u001b[0m\u001b[1m        Param #\u001b[0m\u001b[1m \u001b[0m┃\n",
              "┡━━━━━━━━━━━━━━━━━━━━━━━━━━━━━━━━━━━━━━╇━━━━━━━━━━━━━━━━━━━━━━━━━━━━━╇━━━━━━━━━━━━━━━━━┩\n",
              "│ dense (\u001b[38;5;33mDense\u001b[0m)                        │ (\u001b[38;5;45mNone\u001b[0m, \u001b[38;5;34m10\u001b[0m)                  │              \u001b[38;5;34m30\u001b[0m │\n",
              "├──────────────────────────────────────┼─────────────────────────────┼─────────────────┤\n",
              "│ dense_1 (\u001b[38;5;33mDense\u001b[0m)                      │ (\u001b[38;5;45mNone\u001b[0m, \u001b[38;5;34m10\u001b[0m)                  │             \u001b[38;5;34m110\u001b[0m │\n",
              "├──────────────────────────────────────┼─────────────────────────────┼─────────────────┤\n",
              "│ dense_2 (\u001b[38;5;33mDense\u001b[0m)                      │ (\u001b[38;5;45mNone\u001b[0m, \u001b[38;5;34m10\u001b[0m)                  │             \u001b[38;5;34m110\u001b[0m │\n",
              "├──────────────────────────────────────┼─────────────────────────────┼─────────────────┤\n",
              "│ dense_3 (\u001b[38;5;33mDense\u001b[0m)                      │ (\u001b[38;5;45mNone\u001b[0m, \u001b[38;5;34m10\u001b[0m)                  │             \u001b[38;5;34m110\u001b[0m │\n",
              "├──────────────────────────────────────┼─────────────────────────────┼─────────────────┤\n",
              "│ dense_4 (\u001b[38;5;33mDense\u001b[0m)                      │ (\u001b[38;5;45mNone\u001b[0m, \u001b[38;5;34m1\u001b[0m)                   │              \u001b[38;5;34m11\u001b[0m │\n",
              "└──────────────────────────────────────┴─────────────────────────────┴─────────────────┘\n"
            ],
            "text/html": [
              "<pre style=\"white-space:pre;overflow-x:auto;line-height:normal;font-family:Menlo,'DejaVu Sans Mono',consolas,'Courier New',monospace\">┏━━━━━━━━━━━━━━━━━━━━━━━━━━━━━━━━━━━━━━┳━━━━━━━━━━━━━━━━━━━━━━━━━━━━━┳━━━━━━━━━━━━━━━━━┓\n",
              "┃<span style=\"font-weight: bold\"> Layer (type)                         </span>┃<span style=\"font-weight: bold\"> Output Shape                </span>┃<span style=\"font-weight: bold\">         Param # </span>┃\n",
              "┡━━━━━━━━━━━━━━━━━━━━━━━━━━━━━━━━━━━━━━╇━━━━━━━━━━━━━━━━━━━━━━━━━━━━━╇━━━━━━━━━━━━━━━━━┩\n",
              "│ dense (<span style=\"color: #0087ff; text-decoration-color: #0087ff\">Dense</span>)                        │ (<span style=\"color: #00d7ff; text-decoration-color: #00d7ff\">None</span>, <span style=\"color: #00af00; text-decoration-color: #00af00\">10</span>)                  │              <span style=\"color: #00af00; text-decoration-color: #00af00\">30</span> │\n",
              "├──────────────────────────────────────┼─────────────────────────────┼─────────────────┤\n",
              "│ dense_1 (<span style=\"color: #0087ff; text-decoration-color: #0087ff\">Dense</span>)                      │ (<span style=\"color: #00d7ff; text-decoration-color: #00d7ff\">None</span>, <span style=\"color: #00af00; text-decoration-color: #00af00\">10</span>)                  │             <span style=\"color: #00af00; text-decoration-color: #00af00\">110</span> │\n",
              "├──────────────────────────────────────┼─────────────────────────────┼─────────────────┤\n",
              "│ dense_2 (<span style=\"color: #0087ff; text-decoration-color: #0087ff\">Dense</span>)                      │ (<span style=\"color: #00d7ff; text-decoration-color: #00d7ff\">None</span>, <span style=\"color: #00af00; text-decoration-color: #00af00\">10</span>)                  │             <span style=\"color: #00af00; text-decoration-color: #00af00\">110</span> │\n",
              "├──────────────────────────────────────┼─────────────────────────────┼─────────────────┤\n",
              "│ dense_3 (<span style=\"color: #0087ff; text-decoration-color: #0087ff\">Dense</span>)                      │ (<span style=\"color: #00d7ff; text-decoration-color: #00d7ff\">None</span>, <span style=\"color: #00af00; text-decoration-color: #00af00\">10</span>)                  │             <span style=\"color: #00af00; text-decoration-color: #00af00\">110</span> │\n",
              "├──────────────────────────────────────┼─────────────────────────────┼─────────────────┤\n",
              "│ dense_4 (<span style=\"color: #0087ff; text-decoration-color: #0087ff\">Dense</span>)                      │ (<span style=\"color: #00d7ff; text-decoration-color: #00d7ff\">None</span>, <span style=\"color: #00af00; text-decoration-color: #00af00\">1</span>)                   │              <span style=\"color: #00af00; text-decoration-color: #00af00\">11</span> │\n",
              "└──────────────────────────────────────┴─────────────────────────────┴─────────────────┘\n",
              "</pre>\n"
            ]
          },
          "metadata": {}
        },
        {
          "output_type": "display_data",
          "data": {
            "text/plain": [
              "\u001b[1m Total params: \u001b[0m\u001b[38;5;34m371\u001b[0m (1.45 KB)\n"
            ],
            "text/html": [
              "<pre style=\"white-space:pre;overflow-x:auto;line-height:normal;font-family:Menlo,'DejaVu Sans Mono',consolas,'Courier New',monospace\"><span style=\"font-weight: bold\"> Total params: </span><span style=\"color: #00af00; text-decoration-color: #00af00\">371</span> (1.45 KB)\n",
              "</pre>\n"
            ]
          },
          "metadata": {}
        },
        {
          "output_type": "display_data",
          "data": {
            "text/plain": [
              "\u001b[1m Trainable params: \u001b[0m\u001b[38;5;34m371\u001b[0m (1.45 KB)\n"
            ],
            "text/html": [
              "<pre style=\"white-space:pre;overflow-x:auto;line-height:normal;font-family:Menlo,'DejaVu Sans Mono',consolas,'Courier New',monospace\"><span style=\"font-weight: bold\"> Trainable params: </span><span style=\"color: #00af00; text-decoration-color: #00af00\">371</span> (1.45 KB)\n",
              "</pre>\n"
            ]
          },
          "metadata": {}
        },
        {
          "output_type": "display_data",
          "data": {
            "text/plain": [
              "\u001b[1m Non-trainable params: \u001b[0m\u001b[38;5;34m0\u001b[0m (0.00 B)\n"
            ],
            "text/html": [
              "<pre style=\"white-space:pre;overflow-x:auto;line-height:normal;font-family:Menlo,'DejaVu Sans Mono',consolas,'Courier New',monospace\"><span style=\"font-weight: bold\"> Non-trainable params: </span><span style=\"color: #00af00; text-decoration-color: #00af00\">0</span> (0.00 B)\n",
              "</pre>\n"
            ]
          },
          "metadata": {}
        }
      ]
    },
    {
      "cell_type": "code",
      "source": [
        "model.get_weights()"
      ],
      "metadata": {
        "colab": {
          "base_uri": "https://localhost:8080/"
        },
        "id": "ZE92w_lhmxBX",
        "outputId": "1cf86b2b-df86-4e99-fbe2-4a7ff0427806"
      },
      "execution_count": 14,
      "outputs": [
        {
          "output_type": "execute_result",
          "data": {
            "text/plain": [
              "[array([[-0.64050275,  1.3742136 ,  1.2005844 , -2.1488104 ,  0.36261213,\n",
              "          1.2426683 , -0.9855623 ,  1.2397923 , -0.47448096,  1.0093013 ],\n",
              "        [ 0.309148  ,  0.9108342 , -0.04137539, -0.0510995 ,  0.32396623,\n",
              "          1.8665074 ,  0.7151669 ,  1.1687909 ,  1.5299294 ,  0.6084949 ]],\n",
              "       dtype=float32),\n",
              " array([0., 0., 0., 0., 0., 0., 0., 0., 0., 0.], dtype=float32),\n",
              " array([[-0.04358518, -0.31606707,  0.8312342 ,  0.9835296 ,  0.16287033,\n",
              "         -0.40891093, -0.35373452, -0.85512114,  0.4667527 , -0.11546383],\n",
              "        [-0.17997807,  0.0977088 , -0.8742072 , -0.4297839 , -0.02237613,\n",
              "         -0.20081192,  0.5004803 , -0.27190313,  0.57645136,  0.21452706],\n",
              "        [-0.04762448, -0.32895795,  0.68516314,  0.2872872 ,  0.5611331 ,\n",
              "         -0.75097674,  0.02229374,  0.44700187,  0.7241654 ,  0.7216195 ],\n",
              "        [ 0.08375455,  0.6323599 ,  0.03404919,  0.7602301 ,  0.6453227 ,\n",
              "          0.02108425,  0.1993491 , -0.2585986 , -0.048153  , -0.10391547],\n",
              "        [ 0.37386423,  0.71032125,  0.7609467 ,  0.30840075,  0.5903321 ,\n",
              "         -0.34472305, -0.14334816,  0.35257876,  0.05972893, -0.8782357 ],\n",
              "        [ 0.97729236,  0.31831175, -0.14324939,  0.6697537 , -0.4716922 ,\n",
              "          0.11273011,  0.47421652,  0.41883883, -0.36953306,  0.02650484],\n",
              "        [-0.02420142, -0.01526651, -0.00690819,  0.19465071, -0.8435204 ,\n",
              "          0.13268003,  0.5478063 , -0.8116988 ,  0.7092934 ,  0.43597692],\n",
              "        [-0.55659634,  0.16634154,  0.0948266 , -0.38770813,  0.51202905,\n",
              "         -0.1769194 , -0.18561895, -0.07844444, -0.43072945,  0.4372602 ],\n",
              "        [ 0.22590153, -0.15486526,  0.20822826,  0.82562685,  0.12900613,\n",
              "         -0.3159843 ,  0.8711552 , -0.12792557, -0.24473263, -0.42063117],\n",
              "        [ 0.5013076 , -0.208261  , -0.03409342, -0.3973478 , -0.15623744,\n",
              "          0.98569363,  0.2804562 , -0.54652107, -0.55687904,  0.23547356]],\n",
              "       dtype=float32),\n",
              " array([0., 0., 0., 0., 0., 0., 0., 0., 0., 0.], dtype=float32),\n",
              " array([[-0.64646983, -0.35760334,  0.08637579,  0.5422195 ,  0.24528544,\n",
              "          0.47585526, -0.9779054 , -0.20668763, -0.79773366,  0.11601111],\n",
              "        [ 0.30641025,  0.3335078 , -0.21352282, -0.5568664 , -0.21656698,\n",
              "         -0.94713587,  0.43054304,  0.02101544, -0.3421515 ,  0.650264  ],\n",
              "        [-0.15892586, -0.30718526, -0.17091596,  0.7758633 , -0.5574073 ,\n",
              "          0.17254727, -0.34087363,  0.5600967 , -0.6320932 , -0.53524   ],\n",
              "        [ 0.11405838, -0.12432919, -0.10626259, -0.19628745, -0.2388996 ,\n",
              "          0.18406262,  0.35266712, -0.02174984, -0.3442029 , -0.33716387],\n",
              "        [ 0.88572025,  0.43428588, -0.3439363 , -0.14093477,  0.42444348,\n",
              "          0.8754594 , -0.04345239, -0.47449157,  0.21811506,  0.09628   ],\n",
              "        [ 0.31210566, -0.21263257,  0.15646882, -0.67054874,  0.5114255 ,\n",
              "         -0.67811954,  0.04390865,  0.20842035, -0.6192244 , -0.77582973],\n",
              "        [ 0.48617065, -0.91703695,  0.58462447,  0.03601374,  0.20497856,\n",
              "          0.17125663, -0.03831946, -0.41032794,  0.6633115 ,  0.00181043],\n",
              "        [-0.54971665, -0.08135547,  0.28955364,  0.2652577 ,  0.30054885,\n",
              "          0.08192458,  0.18650874,  0.2609035 , -0.33400837, -0.5974404 ],\n",
              "        [ 0.19789669,  0.13575166, -0.6359622 ,  0.14027229, -0.88935846,\n",
              "         -0.01901945, -0.5668558 , -0.09540121,  0.6417342 , -0.11535196],\n",
              "        [ 0.12150532, -0.51458454,  0.337187  ,  0.1047149 ,  0.8938297 ,\n",
              "          0.40673712,  0.33688065,  0.92533004, -0.1205598 , -0.68134665]],\n",
              "       dtype=float32),\n",
              " array([0., 0., 0., 0., 0., 0., 0., 0., 0., 0.], dtype=float32),\n",
              " array([[-0.5939639 , -0.5645126 ,  0.43346015,  0.26828867,  0.54823023,\n",
              "         -0.3595781 , -0.79135656,  0.15441309,  0.12779224,  0.28244725],\n",
              "        [-0.7296329 , -0.17819437, -0.10114504, -0.00521206,  0.36258477,\n",
              "         -0.5225749 , -0.37073785,  0.22507353, -0.6486321 ,  0.33068994],\n",
              "        [ 0.14281079,  0.70821065,  0.00572328,  0.3821119 , -0.23045067,\n",
              "         -0.0654977 ,  0.00726486, -0.6099456 , -0.15653862,  0.6847149 ],\n",
              "        [-0.29016295,  0.36944625, -0.25277236,  0.17383672,  0.2294097 ,\n",
              "          0.6836701 ,  0.03040916, -0.95346695,  0.27865297, -0.5384802 ],\n",
              "        [ 0.5505971 ,  0.9243561 ,  0.66449475, -0.18731745, -0.11957362,\n",
              "         -0.3797008 , -0.5909413 , -0.24742156, -0.22792152, -0.3610963 ],\n",
              "        [ 0.20556253,  0.2284126 ,  0.23048033,  0.4726634 ,  0.47794467,\n",
              "         -0.20035724, -0.07006221, -0.39961234,  0.8361351 , -0.29050374],\n",
              "        [-0.01411788, -0.60655886,  0.66692966, -0.522341  ,  0.08804797,\n",
              "         -0.4887686 ,  0.9140043 ,  0.12901098, -0.66500175,  0.18638663],\n",
              "        [ 0.40931338,  0.20821023, -0.23814182, -0.72238415,  0.20856369,\n",
              "         -0.84797084,  0.0612794 ,  0.4950121 , -0.59944457,  0.46912742],\n",
              "        [-0.34564096, -0.01489442, -0.11396334,  0.47118834,  0.80470496,\n",
              "         -0.24815953, -0.61404   ,  0.11766528, -0.9423165 ,  0.04544329],\n",
              "        [-0.35660735,  0.02922305, -0.35434192,  0.47982097, -0.3064558 ,\n",
              "         -0.7572505 ,  0.09327545,  0.30644816, -0.0592466 ,  0.47776073]],\n",
              "       dtype=float32),\n",
              " array([0., 0., 0., 0., 0., 0., 0., 0., 0., 0.], dtype=float32),\n",
              " array([[-0.22991681],\n",
              "        [-0.07471162],\n",
              "        [-0.6215383 ],\n",
              "        [ 0.00557023],\n",
              "        [ 0.47150594],\n",
              "        [-0.1047498 ],\n",
              "        [-0.72181624],\n",
              "        [ 0.4416079 ],\n",
              "        [ 0.39273828],\n",
              "        [-0.03228617]], dtype=float32),\n",
              " array([0.], dtype=float32)]"
            ]
          },
          "metadata": {},
          "execution_count": 14
        }
      ]
    },
    {
      "cell_type": "code",
      "source": [
        "initial_weights = model.get_weights()"
      ],
      "metadata": {
        "id": "j_frpmyfm9en"
      },
      "execution_count": 15,
      "outputs": []
    },
    {
      "cell_type": "code",
      "source": [
        "initial_weights[0] = np.random.randn(2,10)*np.sqrt(1/2)\n",
        "initial_weights[1] = np.zeros(model.get_weights()[1].shape)\n",
        "initial_weights[2] = np.random.randn(10,10)*np.sqrt(1/10)\n",
        "initial_weights[3] = np.zeros(model.get_weights()[3].shape)\n",
        "initial_weights[4] = np.random.randn(10,10)*np.sqrt(1/10)\n",
        "initial_weights[5] = np.zeros(model.get_weights()[5].shape)\n",
        "initial_weights[6] = np.random.randn(10,10)*np.sqrt(1/10)\n",
        "initial_weights[7] = np.zeros(model.get_weights()[7].shape)\n",
        "initial_weights[8] = np.random.randn(10,1)*np.sqrt(1/10)\n",
        "initial_weights[9] = np.zeros(model.get_weights()[9].shape)"
      ],
      "metadata": {
        "id": "rt9ekWT6nW0P"
      },
      "execution_count": 16,
      "outputs": []
    },
    {
      "cell_type": "code",
      "source": [
        "model.set_weights(initial_weights)"
      ],
      "metadata": {
        "id": "cos6gr04nJlX"
      },
      "execution_count": 17,
      "outputs": []
    },
    {
      "cell_type": "code",
      "source": [
        "model.get_weights()"
      ],
      "metadata": {
        "colab": {
          "base_uri": "https://localhost:8080/"
        },
        "id": "67q4MmQpncOe",
        "outputId": "7e54585a-677d-40e2-8467-fadead1aea38"
      },
      "execution_count": 18,
      "outputs": [
        {
          "output_type": "execute_result",
          "data": {
            "text/plain": [
              "[array([[ 8.0247909e-01, -3.6864358e-01,  1.2849993e-01, -3.0862525e-01,\n",
              "          6.4376330e-01, -7.9797071e-01,  9.8278141e-01,  6.7688137e-01,\n",
              "         -3.8663378e-01,  2.2734949e-01],\n",
              "        [ 5.3828329e-01,  1.0500927e-04, -4.3966252e-01,  1.4303366e+00,\n",
              "         -3.2163051e-01,  1.8466969e+00, -8.8162833e-01, -1.3518461e+00,\n",
              "          8.8049102e-01, -2.4424025e-01]], dtype=float32),\n",
              " array([0., 0., 0., 0., 0., 0., 0., 0., 0., 0.], dtype=float32),\n",
              " array([[ 0.7188119 , -0.27820134,  0.16269678,  0.02671004,  0.5306606 ,\n",
              "         -0.23646428,  0.26382902, -0.4037793 , -0.08805502,  0.18636641],\n",
              "        [ 0.24358219,  0.34300855, -0.22237116, -0.5132556 , -0.00962297,\n",
              "         -0.03083832,  0.12022184,  0.49092078,  0.02417962, -0.17427857],\n",
              "        [-0.17358308, -0.1475498 , -0.42569762,  0.19543965,  0.03034293,\n",
              "          0.48475933, -0.13582437,  0.5342571 ,  0.08650066, -0.08620453],\n",
              "        [-0.6883857 , -0.65280026, -0.12075135, -0.12497891,  0.38758814,\n",
              "         -0.13723445, -0.19471137, -0.02503216, -0.30032074,  0.19534008],\n",
              "        [-0.09899592, -0.45538822,  0.3267584 , -0.33931124, -0.07913222,\n",
              "         -0.00928708, -0.24864969, -0.12026419, -0.33600754, -0.01131098],\n",
              "        [-0.16361745, -0.10131778, -0.75055224, -0.13417314,  0.01540292,\n",
              "          0.185696  , -0.06472261,  0.2660907 , -0.13940403,  0.12571199],\n",
              "        [ 0.27259713,  0.00225756, -0.18944791, -0.39090937, -0.3150943 ,\n",
              "          0.15761536, -0.08628982, -0.29654115,  0.19459605,  0.10092169],\n",
              "        [ 0.38877702,  0.15136151, -0.38103452,  0.03599915,  0.368181  ,\n",
              "          0.00287919, -0.07457287, -0.06360766,  0.46125725,  0.3456142 ],\n",
              "        [-0.13702434, -0.19050235,  0.52285844, -0.03354968,  0.15666977,\n",
              "          0.05574134, -0.69255847, -0.19356367,  0.2498496 ,  0.0929929 ],\n",
              "        [ 0.09171666,  0.02926226, -0.38909966, -0.25868547, -0.49781483,\n",
              "          0.10645874, -0.30449942, -0.08334371, -0.34403628, -0.13260463]],\n",
              "       dtype=float32),\n",
              " array([0., 0., 0., 0., 0., 0., 0., 0., 0., 0.], dtype=float32),\n",
              " array([[-0.1861407 , -0.3021819 , -0.24789006, -0.41450888, -0.12327858,\n",
              "         -0.13822924, -0.65703744,  0.25954705,  0.3416224 , -0.18555193],\n",
              "        [-0.31496257, -0.5212272 , -0.5021759 ,  0.11910229, -0.384122  ,\n",
              "         -0.09181601, -0.02996912, -0.00977688,  0.3085239 ,  0.5299718 ],\n",
              "        [-0.61561817, -0.33450806,  0.4753095 , -0.18718238,  0.1536304 ,\n",
              "         -0.3490258 , -0.04989088,  0.10202377,  0.16510652, -0.02161255],\n",
              "        [ 0.2222554 , -0.05375047, -0.29640365, -0.11194554, -0.38942644,\n",
              "         -0.30163154,  0.15096438, -0.24675445, -0.140576  , -0.12510657],\n",
              "        [ 0.30388558,  0.38172245, -0.06950296, -0.7430167 , -0.28769594,\n",
              "          0.16003044, -0.4628282 , -0.51409173,  0.23737238,  0.256856  ],\n",
              "        [ 0.47692922, -0.13342433,  0.44277588, -0.23180898, -0.20628658,\n",
              "         -0.65006906,  0.01179005,  0.24058677,  0.06738837,  0.16317248],\n",
              "        [ 0.11507401,  0.5887621 , -0.03156815,  0.16760981,  0.03434649,\n",
              "          0.10718642,  0.06619032,  0.11729862,  0.31508052,  0.53890854],\n",
              "        [-0.0282311 , -0.01799939,  0.37555993,  0.03279924, -0.16354024,\n",
              "          0.16134842, -0.30904222, -0.04994809,  0.16560054,  0.36118862],\n",
              "        [-0.1850744 , -0.31908596, -0.1347562 , -0.20457925,  0.04089436,\n",
              "          0.28070217,  0.11816464, -0.5000388 , -0.77721083,  0.02444119],\n",
              "        [ 0.02478838, -0.25885695, -0.02819196, -0.6201035 , -0.24938564,\n",
              "         -0.18086846, -0.4038385 , -0.1901398 , -0.11839815, -0.02187852]],\n",
              "       dtype=float32),\n",
              " array([0., 0., 0., 0., 0., 0., 0., 0., 0., 0.], dtype=float32),\n",
              " array([[ 0.1336677 ,  0.3661872 , -0.13236754, -0.01653471, -0.01544857,\n",
              "         -0.14308974, -0.45173016,  0.30551204, -0.01239748, -0.45974398],\n",
              "        [ 0.67735   , -0.07413589, -0.7245475 ,  0.25000364, -0.29616475,\n",
              "         -0.09584916,  0.02777445,  0.05861115, -0.10148102, -0.441996  ],\n",
              "        [-0.08330586, -0.2784959 ,  0.08867385,  0.11896195,  0.2080433 ,\n",
              "          0.18425287,  0.13981643,  0.3692696 ,  0.09339396,  0.5819944 ],\n",
              "        [ 0.23388748,  0.10122319, -0.13030247,  0.01859045,  0.16381986,\n",
              "          0.28753138,  0.13523501,  0.18493427,  0.03604595,  0.3845156 ],\n",
              "        [ 0.15679453,  0.53522176, -0.19830522, -0.28791183,  0.13715993,\n",
              "          0.37374157, -0.16000582,  0.47125906,  0.11246396, -0.33596247],\n",
              "        [-0.86257553,  0.05305126,  0.21941984,  0.19784439,  0.38745344,\n",
              "          0.05681184,  0.5298392 ,  0.31638813,  0.19648513,  0.04166907],\n",
              "        [-0.1110248 , -0.07258664,  0.57604027,  0.2539894 ,  0.0151631 ,\n",
              "         -0.14612085,  0.43381953, -0.11319561,  0.6426959 ,  0.29685214],\n",
              "        [ 0.28438094,  0.41821554,  0.03045883,  0.09836738,  0.11744759,\n",
              "          0.03976839,  0.2868352 ,  0.3355509 ,  0.40823108, -0.19835168],\n",
              "        [ 0.08998606,  0.17587294,  0.61021686,  0.5401648 ,  0.23986393,\n",
              "          0.10064117,  0.04698143,  0.53079194,  0.15000369, -0.34032094],\n",
              "        [-0.07790954,  0.4862172 , -0.21977456, -0.1127598 , -0.02089828,\n",
              "          0.19314401,  0.00984138,  0.24288017, -0.32242954, -0.27784818]],\n",
              "       dtype=float32),\n",
              " array([0., 0., 0., 0., 0., 0., 0., 0., 0., 0.], dtype=float32),\n",
              " array([[ 0.40349457],\n",
              "        [-0.31068927],\n",
              "        [-0.37127873],\n",
              "        [ 0.2895171 ],\n",
              "        [ 0.33802444],\n",
              "        [-0.18993016],\n",
              "        [ 0.01008575],\n",
              "        [-0.49344203],\n",
              "        [-0.22888489],\n",
              "        [-0.09974498]], dtype=float32),\n",
              " array([0.], dtype=float32)]"
            ]
          },
          "metadata": {},
          "execution_count": 18
        }
      ]
    },
    {
      "cell_type": "code",
      "source": [
        "model.compile(loss='binary_crossentropy',optimizer='adam',metrics=['accuracy'])"
      ],
      "metadata": {
        "id": "9sM0Xx1-nidK"
      },
      "execution_count": 19,
      "outputs": []
    },
    {
      "cell_type": "code",
      "source": [
        "history = model.fit(X,y,epochs=100,validation_split=0.2)"
      ],
      "metadata": {
        "colab": {
          "base_uri": "https://localhost:8080/"
        },
        "id": "IX2Kv1JAnn7d",
        "outputId": "e430562d-3f59-48e4-89bc-26e709b858f6"
      },
      "execution_count": 20,
      "outputs": [
        {
          "output_type": "stream",
          "name": "stdout",
          "text": [
            "Epoch 1/100\n",
            "\u001b[1m3/3\u001b[0m \u001b[32m━━━━━━━━━━━━━━━━━━━━\u001b[0m\u001b[37m\u001b[0m \u001b[1m5s\u001b[0m 107ms/step - accuracy: 0.5821 - loss: 0.6841 - val_accuracy: 0.7000 - val_loss: 0.6638\n",
            "Epoch 2/100\n",
            "\u001b[1m3/3\u001b[0m \u001b[32m━━━━━━━━━━━━━━━━━━━━\u001b[0m\u001b[37m\u001b[0m \u001b[1m0s\u001b[0m 18ms/step - accuracy: 0.6675 - loss: 0.6767 - val_accuracy: 0.7000 - val_loss: 0.6587\n",
            "Epoch 3/100\n",
            "\u001b[1m3/3\u001b[0m \u001b[32m━━━━━━━━━━━━━━━━━━━━\u001b[0m\u001b[37m\u001b[0m \u001b[1m0s\u001b[0m 18ms/step - accuracy: 0.7592 - loss: 0.6683 - val_accuracy: 0.7500 - val_loss: 0.6535\n",
            "Epoch 4/100\n",
            "\u001b[1m3/3\u001b[0m \u001b[32m━━━━━━━━━━━━━━━━━━━━\u001b[0m\u001b[37m\u001b[0m \u001b[1m0s\u001b[0m 32ms/step - accuracy: 0.7382 - loss: 0.6642 - val_accuracy: 0.8000 - val_loss: 0.6483\n",
            "Epoch 5/100\n",
            "\u001b[1m3/3\u001b[0m \u001b[32m━━━━━━━━━━━━━━━━━━━━\u001b[0m\u001b[37m\u001b[0m \u001b[1m0s\u001b[0m 17ms/step - accuracy: 0.7772 - loss: 0.6577 - val_accuracy: 0.8000 - val_loss: 0.6435\n",
            "Epoch 6/100\n",
            "\u001b[1m3/3\u001b[0m \u001b[32m━━━━━━━━━━━━━━━━━━━━\u001b[0m\u001b[37m\u001b[0m \u001b[1m0s\u001b[0m 16ms/step - accuracy: 0.7616 - loss: 0.6598 - val_accuracy: 0.8500 - val_loss: 0.6390\n",
            "Epoch 7/100\n",
            "\u001b[1m3/3\u001b[0m \u001b[32m━━━━━━━━━━━━━━━━━━━━\u001b[0m\u001b[37m\u001b[0m \u001b[1m0s\u001b[0m 16ms/step - accuracy: 0.7304 - loss: 0.6519 - val_accuracy: 0.9000 - val_loss: 0.6341\n",
            "Epoch 8/100\n",
            "\u001b[1m3/3\u001b[0m \u001b[32m━━━━━━━━━━━━━━━━━━━━\u001b[0m\u001b[37m\u001b[0m \u001b[1m0s\u001b[0m 17ms/step - accuracy: 0.7719 - loss: 0.6485 - val_accuracy: 0.9000 - val_loss: 0.6293\n",
            "Epoch 9/100\n",
            "\u001b[1m3/3\u001b[0m \u001b[32m━━━━━━━━━━━━━━━━━━━━\u001b[0m\u001b[37m\u001b[0m \u001b[1m0s\u001b[0m 16ms/step - accuracy: 0.7445 - loss: 0.6480 - val_accuracy: 0.9000 - val_loss: 0.6243\n",
            "Epoch 10/100\n",
            "\u001b[1m3/3\u001b[0m \u001b[32m━━━━━━━━━━━━━━━━━━━━\u001b[0m\u001b[37m\u001b[0m \u001b[1m0s\u001b[0m 16ms/step - accuracy: 0.7367 - loss: 0.6478 - val_accuracy: 0.9000 - val_loss: 0.6191\n",
            "Epoch 11/100\n",
            "\u001b[1m3/3\u001b[0m \u001b[32m━━━━━━━━━━━━━━━━━━━━\u001b[0m\u001b[37m\u001b[0m \u001b[1m0s\u001b[0m 17ms/step - accuracy: 0.7455 - loss: 0.6401 - val_accuracy: 0.9000 - val_loss: 0.6133\n",
            "Epoch 12/100\n",
            "\u001b[1m3/3\u001b[0m \u001b[32m━━━━━━━━━━━━━━━━━━━━\u001b[0m\u001b[37m\u001b[0m \u001b[1m0s\u001b[0m 17ms/step - accuracy: 0.7415 - loss: 0.6381 - val_accuracy: 0.9000 - val_loss: 0.6073\n",
            "Epoch 13/100\n",
            "\u001b[1m3/3\u001b[0m \u001b[32m━━━━━━━━━━━━━━━━━━━━\u001b[0m\u001b[37m\u001b[0m \u001b[1m0s\u001b[0m 17ms/step - accuracy: 0.7728 - loss: 0.6247 - val_accuracy: 0.9000 - val_loss: 0.6008\n",
            "Epoch 14/100\n",
            "\u001b[1m3/3\u001b[0m \u001b[32m━━━━━━━━━━━━━━━━━━━━\u001b[0m\u001b[37m\u001b[0m \u001b[1m0s\u001b[0m 18ms/step - accuracy: 0.8245 - loss: 0.6192 - val_accuracy: 0.9000 - val_loss: 0.5943\n",
            "Epoch 15/100\n",
            "\u001b[1m3/3\u001b[0m \u001b[32m━━━━━━━━━━━━━━━━━━━━\u001b[0m\u001b[37m\u001b[0m \u001b[1m0s\u001b[0m 21ms/step - accuracy: 0.8191 - loss: 0.6089 - val_accuracy: 0.9000 - val_loss: 0.5876\n",
            "Epoch 16/100\n",
            "\u001b[1m3/3\u001b[0m \u001b[32m━━━━━━━━━━━━━━━━━━━━\u001b[0m\u001b[37m\u001b[0m \u001b[1m0s\u001b[0m 30ms/step - accuracy: 0.8152 - loss: 0.6144 - val_accuracy: 0.9000 - val_loss: 0.5808\n",
            "Epoch 17/100\n",
            "\u001b[1m3/3\u001b[0m \u001b[32m━━━━━━━━━━━━━━━━━━━━\u001b[0m\u001b[37m\u001b[0m \u001b[1m0s\u001b[0m 21ms/step - accuracy: 0.8074 - loss: 0.6077 - val_accuracy: 0.9000 - val_loss: 0.5737\n",
            "Epoch 18/100\n",
            "\u001b[1m3/3\u001b[0m \u001b[32m━━━━━━━━━━━━━━━━━━━━\u001b[0m\u001b[37m\u001b[0m \u001b[1m0s\u001b[0m 16ms/step - accuracy: 0.8308 - loss: 0.5949 - val_accuracy: 0.8500 - val_loss: 0.5664\n",
            "Epoch 19/100\n",
            "\u001b[1m3/3\u001b[0m \u001b[32m━━━━━━━━━━━━━━━━━━━━\u001b[0m\u001b[37m\u001b[0m \u001b[1m0s\u001b[0m 15ms/step - accuracy: 0.8074 - loss: 0.6029 - val_accuracy: 0.9000 - val_loss: 0.5590\n",
            "Epoch 20/100\n",
            "\u001b[1m3/3\u001b[0m \u001b[32m━━━━━━━━━━━━━━━━━━━━\u001b[0m\u001b[37m\u001b[0m \u001b[1m0s\u001b[0m 16ms/step - accuracy: 0.8387 - loss: 0.5775 - val_accuracy: 0.8500 - val_loss: 0.5512\n",
            "Epoch 21/100\n",
            "\u001b[1m3/3\u001b[0m \u001b[32m━━━━━━━━━━━━━━━━━━━━\u001b[0m\u001b[37m\u001b[0m \u001b[1m0s\u001b[0m 15ms/step - accuracy: 0.8308 - loss: 0.5801 - val_accuracy: 0.8500 - val_loss: 0.5437\n",
            "Epoch 22/100\n",
            "\u001b[1m3/3\u001b[0m \u001b[32m━━━━━━━━━━━━━━━━━━━━\u001b[0m\u001b[37m\u001b[0m \u001b[1m0s\u001b[0m 15ms/step - accuracy: 0.7981 - loss: 0.5887 - val_accuracy: 0.9000 - val_loss: 0.5366\n",
            "Epoch 23/100\n",
            "\u001b[1m3/3\u001b[0m \u001b[32m━━━━━━━━━━━━━━━━━━━━\u001b[0m\u001b[37m\u001b[0m \u001b[1m0s\u001b[0m 16ms/step - accuracy: 0.8137 - loss: 0.5824 - val_accuracy: 0.9000 - val_loss: 0.5293\n",
            "Epoch 24/100\n",
            "\u001b[1m3/3\u001b[0m \u001b[32m━━━━━━━━━━━━━━━━━━━━\u001b[0m\u001b[37m\u001b[0m \u001b[1m0s\u001b[0m 16ms/step - accuracy: 0.8333 - loss: 0.5743 - val_accuracy: 0.9000 - val_loss: 0.5219\n",
            "Epoch 25/100\n",
            "\u001b[1m3/3\u001b[0m \u001b[32m━━━━━━━━━━━━━━━━━━━━\u001b[0m\u001b[37m\u001b[0m \u001b[1m0s\u001b[0m 16ms/step - accuracy: 0.8240 - loss: 0.5659 - val_accuracy: 0.9000 - val_loss: 0.5145\n",
            "Epoch 26/100\n",
            "\u001b[1m3/3\u001b[0m \u001b[32m━━━━━━━━━━━━━━━━━━━━\u001b[0m\u001b[37m\u001b[0m \u001b[1m0s\u001b[0m 16ms/step - accuracy: 0.8098 - loss: 0.5719 - val_accuracy: 0.9000 - val_loss: 0.5074\n",
            "Epoch 27/100\n",
            "\u001b[1m3/3\u001b[0m \u001b[32m━━━━━━━━━━━━━━━━━━━━\u001b[0m\u001b[37m\u001b[0m \u001b[1m0s\u001b[0m 18ms/step - accuracy: 0.8020 - loss: 0.5440 - val_accuracy: 0.9000 - val_loss: 0.5004\n",
            "Epoch 28/100\n",
            "\u001b[1m3/3\u001b[0m \u001b[32m━━━━━━━━━━━━━━━━━━━━\u001b[0m\u001b[37m\u001b[0m \u001b[1m0s\u001b[0m 17ms/step - accuracy: 0.8411 - loss: 0.5366 - val_accuracy: 0.9000 - val_loss: 0.4938\n",
            "Epoch 29/100\n",
            "\u001b[1m3/3\u001b[0m \u001b[32m━━━━━━━━━━━━━━━━━━━━\u001b[0m\u001b[37m\u001b[0m \u001b[1m0s\u001b[0m 22ms/step - accuracy: 0.8450 - loss: 0.5241 - val_accuracy: 0.9000 - val_loss: 0.4877\n",
            "Epoch 30/100\n",
            "\u001b[1m3/3\u001b[0m \u001b[32m━━━━━━━━━━━━━━━━━━━━\u001b[0m\u001b[37m\u001b[0m \u001b[1m0s\u001b[0m 29ms/step - accuracy: 0.8372 - loss: 0.5371 - val_accuracy: 0.9000 - val_loss: 0.4820\n",
            "Epoch 31/100\n",
            "\u001b[1m3/3\u001b[0m \u001b[32m━━━━━━━━━━━━━━━━━━━━\u001b[0m\u001b[37m\u001b[0m \u001b[1m0s\u001b[0m 18ms/step - accuracy: 0.8098 - loss: 0.5550 - val_accuracy: 0.9000 - val_loss: 0.4765\n",
            "Epoch 32/100\n",
            "\u001b[1m3/3\u001b[0m \u001b[32m━━━━━━━━━━━━━━━━━━━━\u001b[0m\u001b[37m\u001b[0m \u001b[1m0s\u001b[0m 17ms/step - accuracy: 0.8372 - loss: 0.5376 - val_accuracy: 0.9000 - val_loss: 0.4710\n",
            "Epoch 33/100\n",
            "\u001b[1m3/3\u001b[0m \u001b[32m━━━━━━━━━━━━━━━━━━━━\u001b[0m\u001b[37m\u001b[0m \u001b[1m0s\u001b[0m 17ms/step - accuracy: 0.8098 - loss: 0.5415 - val_accuracy: 0.9000 - val_loss: 0.4660\n",
            "Epoch 34/100\n",
            "\u001b[1m3/3\u001b[0m \u001b[32m━━━━━━━━━━━━━━━━━━━━\u001b[0m\u001b[37m\u001b[0m \u001b[1m0s\u001b[0m 17ms/step - accuracy: 0.8255 - loss: 0.5134 - val_accuracy: 0.9000 - val_loss: 0.4609\n",
            "Epoch 35/100\n",
            "\u001b[1m3/3\u001b[0m \u001b[32m━━━━━━━━━━━━━━━━━━━━\u001b[0m\u001b[37m\u001b[0m \u001b[1m0s\u001b[0m 16ms/step - accuracy: 0.8333 - loss: 0.5086 - val_accuracy: 0.9000 - val_loss: 0.4562\n",
            "Epoch 36/100\n",
            "\u001b[1m3/3\u001b[0m \u001b[32m━━━━━━━━━━━━━━━━━━━━\u001b[0m\u001b[37m\u001b[0m \u001b[1m0s\u001b[0m 16ms/step - accuracy: 0.8098 - loss: 0.5377 - val_accuracy: 0.9000 - val_loss: 0.4523\n",
            "Epoch 37/100\n",
            "\u001b[1m3/3\u001b[0m \u001b[32m━━━━━━━━━━━━━━━━━━━━\u001b[0m\u001b[37m\u001b[0m \u001b[1m0s\u001b[0m 16ms/step - accuracy: 0.8240 - loss: 0.5500 - val_accuracy: 0.9000 - val_loss: 0.4485\n",
            "Epoch 38/100\n",
            "\u001b[1m3/3\u001b[0m \u001b[32m━━━━━━━━━━━━━━━━━━━━\u001b[0m\u001b[37m\u001b[0m \u001b[1m0s\u001b[0m 16ms/step - accuracy: 0.8123 - loss: 0.5564 - val_accuracy: 0.9000 - val_loss: 0.4446\n",
            "Epoch 39/100\n",
            "\u001b[1m3/3\u001b[0m \u001b[32m━━━━━━━━━━━━━━━━━━━━\u001b[0m\u001b[37m\u001b[0m \u001b[1m0s\u001b[0m 16ms/step - accuracy: 0.8240 - loss: 0.5289 - val_accuracy: 0.9000 - val_loss: 0.4407\n",
            "Epoch 40/100\n",
            "\u001b[1m3/3\u001b[0m \u001b[32m━━━━━━━━━━━━━━━━━━━━\u001b[0m\u001b[37m\u001b[0m \u001b[1m0s\u001b[0m 21ms/step - accuracy: 0.8513 - loss: 0.4833 - val_accuracy: 0.9000 - val_loss: 0.4369\n",
            "Epoch 41/100\n",
            "\u001b[1m3/3\u001b[0m \u001b[32m━━━━━━━━━━━━━━━━━━━━\u001b[0m\u001b[37m\u001b[0m \u001b[1m0s\u001b[0m 27ms/step - accuracy: 0.8630 - loss: 0.4831 - val_accuracy: 0.9000 - val_loss: 0.4334\n",
            "Epoch 42/100\n",
            "\u001b[1m3/3\u001b[0m \u001b[32m━━━━━━━━━━━━━━━━━━━━\u001b[0m\u001b[37m\u001b[0m \u001b[1m0s\u001b[0m 20ms/step - accuracy: 0.8201 - loss: 0.5139 - val_accuracy: 0.9000 - val_loss: 0.4306\n",
            "Epoch 43/100\n",
            "\u001b[1m3/3\u001b[0m \u001b[32m━━━━━━━━━━━━━━━━━━━━\u001b[0m\u001b[37m\u001b[0m \u001b[1m0s\u001b[0m 23ms/step - accuracy: 0.8318 - loss: 0.4996 - val_accuracy: 0.9000 - val_loss: 0.4278\n",
            "Epoch 44/100\n",
            "\u001b[1m3/3\u001b[0m \u001b[32m━━━━━━━━━━━━━━━━━━━━\u001b[0m\u001b[37m\u001b[0m \u001b[1m0s\u001b[0m 18ms/step - accuracy: 0.8513 - loss: 0.4967 - val_accuracy: 0.9000 - val_loss: 0.4251\n",
            "Epoch 45/100\n",
            "\u001b[1m3/3\u001b[0m \u001b[32m━━━━━━━━━━━━━━━━━━━━\u001b[0m\u001b[37m\u001b[0m \u001b[1m0s\u001b[0m 16ms/step - accuracy: 0.8318 - loss: 0.4994 - val_accuracy: 0.9000 - val_loss: 0.4225\n",
            "Epoch 46/100\n",
            "\u001b[1m3/3\u001b[0m \u001b[32m━━━━━━━━━━━━━━━━━━━━\u001b[0m\u001b[37m\u001b[0m \u001b[1m0s\u001b[0m 17ms/step - accuracy: 0.8201 - loss: 0.4915 - val_accuracy: 0.9000 - val_loss: 0.4202\n",
            "Epoch 47/100\n",
            "\u001b[1m3/3\u001b[0m \u001b[32m━━━━━━━━━━━━━━━━━━━━\u001b[0m\u001b[37m\u001b[0m \u001b[1m0s\u001b[0m 16ms/step - accuracy: 0.8616 - loss: 0.4833 - val_accuracy: 0.9000 - val_loss: 0.4179\n",
            "Epoch 48/100\n",
            "\u001b[1m3/3\u001b[0m \u001b[32m━━━━━━━━━━━━━━━━━━━━\u001b[0m\u001b[37m\u001b[0m \u001b[1m0s\u001b[0m 18ms/step - accuracy: 0.8537 - loss: 0.4762 - val_accuracy: 0.9000 - val_loss: 0.4155\n",
            "Epoch 49/100\n",
            "\u001b[1m3/3\u001b[0m \u001b[32m━━━━━━━━━━━━━━━━━━━━\u001b[0m\u001b[37m\u001b[0m \u001b[1m0s\u001b[0m 17ms/step - accuracy: 0.8537 - loss: 0.4701 - val_accuracy: 0.9000 - val_loss: 0.4132\n",
            "Epoch 50/100\n",
            "\u001b[1m3/3\u001b[0m \u001b[32m━━━━━━━━━━━━━━━━━━━━\u001b[0m\u001b[37m\u001b[0m \u001b[1m0s\u001b[0m 19ms/step - accuracy: 0.8366 - loss: 0.5162 - val_accuracy: 0.9000 - val_loss: 0.4107\n",
            "Epoch 51/100\n",
            "\u001b[1m3/3\u001b[0m \u001b[32m━━━━━━━━━━━━━━━━━━━━\u001b[0m\u001b[37m\u001b[0m \u001b[1m0s\u001b[0m 19ms/step - accuracy: 0.8796 - loss: 0.4906 - val_accuracy: 0.9000 - val_loss: 0.4077\n",
            "Epoch 52/100\n",
            "\u001b[1m3/3\u001b[0m \u001b[32m━━━━━━━━━━━━━━━━━━━━\u001b[0m\u001b[37m\u001b[0m \u001b[1m0s\u001b[0m 21ms/step - accuracy: 0.8601 - loss: 0.4855 - val_accuracy: 0.9000 - val_loss: 0.4049\n",
            "Epoch 53/100\n",
            "\u001b[1m3/3\u001b[0m \u001b[32m━━━━━━━━━━━━━━━━━━━━\u001b[0m\u001b[37m\u001b[0m \u001b[1m0s\u001b[0m 25ms/step - accuracy: 0.8898 - loss: 0.4605 - val_accuracy: 0.9000 - val_loss: 0.4018\n",
            "Epoch 54/100\n",
            "\u001b[1m3/3\u001b[0m \u001b[32m━━━━━━━━━━━━━━━━━━━━\u001b[0m\u001b[37m\u001b[0m \u001b[1m0s\u001b[0m 17ms/step - accuracy: 0.8625 - loss: 0.4882 - val_accuracy: 0.9000 - val_loss: 0.3996\n",
            "Epoch 55/100\n",
            "\u001b[1m3/3\u001b[0m \u001b[32m━━━━━━━━━━━━━━━━━━━━\u001b[0m\u001b[37m\u001b[0m \u001b[1m0s\u001b[0m 17ms/step - accuracy: 0.8664 - loss: 0.4963 - val_accuracy: 0.9000 - val_loss: 0.3974\n",
            "Epoch 56/100\n",
            "\u001b[1m3/3\u001b[0m \u001b[32m━━━━━━━━━━━━━━━━━━━━\u001b[0m\u001b[37m\u001b[0m \u001b[1m0s\u001b[0m 17ms/step - accuracy: 0.8820 - loss: 0.4551 - val_accuracy: 0.9000 - val_loss: 0.3951\n",
            "Epoch 57/100\n",
            "\u001b[1m3/3\u001b[0m \u001b[32m━━━━━━━━━━━━━━━━━━━━\u001b[0m\u001b[37m\u001b[0m \u001b[1m0s\u001b[0m 102ms/step - accuracy: 0.8781 - loss: 0.4709 - val_accuracy: 0.9000 - val_loss: 0.3928\n",
            "Epoch 58/100\n",
            "\u001b[1m3/3\u001b[0m \u001b[32m━━━━━━━━━━━━━━━━━━━━\u001b[0m\u001b[37m\u001b[0m \u001b[1m0s\u001b[0m 39ms/step - accuracy: 0.8664 - loss: 0.4747 - val_accuracy: 0.9000 - val_loss: 0.3903\n",
            "Epoch 59/100\n",
            "\u001b[1m3/3\u001b[0m \u001b[32m━━━━━━━━━━━━━━━━━━━━\u001b[0m\u001b[37m\u001b[0m \u001b[1m0s\u001b[0m 39ms/step - accuracy: 0.8469 - loss: 0.4801 - val_accuracy: 0.9000 - val_loss: 0.3881\n",
            "Epoch 60/100\n",
            "\u001b[1m3/3\u001b[0m \u001b[32m━━━━━━━━━━━━━━━━━━━━\u001b[0m\u001b[37m\u001b[0m \u001b[1m0s\u001b[0m 56ms/step - accuracy: 0.8742 - loss: 0.4694 - val_accuracy: 0.9000 - val_loss: 0.3854\n",
            "Epoch 61/100\n",
            "\u001b[1m3/3\u001b[0m \u001b[32m━━━━━━━━━━━━━━━━━━━━\u001b[0m\u001b[37m\u001b[0m \u001b[1m0s\u001b[0m 24ms/step - accuracy: 0.8508 - loss: 0.4770 - val_accuracy: 0.9000 - val_loss: 0.3833\n",
            "Epoch 62/100\n",
            "\u001b[1m3/3\u001b[0m \u001b[32m━━━━━━━━━━━━━━━━━━━━\u001b[0m\u001b[37m\u001b[0m \u001b[1m0s\u001b[0m 32ms/step - accuracy: 0.8508 - loss: 0.4891 - val_accuracy: 0.9000 - val_loss: 0.3810\n",
            "Epoch 63/100\n",
            "\u001b[1m3/3\u001b[0m \u001b[32m━━━━━━━━━━━━━━━━━━━━\u001b[0m\u001b[37m\u001b[0m \u001b[1m0s\u001b[0m 84ms/step - accuracy: 0.8976 - loss: 0.4439 - val_accuracy: 0.9000 - val_loss: 0.3779\n",
            "Epoch 64/100\n",
            "\u001b[1m3/3\u001b[0m \u001b[32m━━━━━━━━━━━━━━━━━━━━\u001b[0m\u001b[37m\u001b[0m \u001b[1m0s\u001b[0m 23ms/step - accuracy: 0.9016 - loss: 0.4255 - val_accuracy: 0.9000 - val_loss: 0.3751\n",
            "Epoch 65/100\n",
            "\u001b[1m3/3\u001b[0m \u001b[32m━━━━━━━━━━━━━━━━━━━━\u001b[0m\u001b[37m\u001b[0m \u001b[1m0s\u001b[0m 47ms/step - accuracy: 0.8976 - loss: 0.4177 - val_accuracy: 0.9000 - val_loss: 0.3730\n",
            "Epoch 66/100\n",
            "\u001b[1m3/3\u001b[0m \u001b[32m━━━━━━━━━━━━━━━━━━━━\u001b[0m\u001b[37m\u001b[0m \u001b[1m0s\u001b[0m 28ms/step - accuracy: 0.8664 - loss: 0.4582 - val_accuracy: 0.9000 - val_loss: 0.3714\n",
            "Epoch 67/100\n",
            "\u001b[1m3/3\u001b[0m \u001b[32m━━━━━━━━━━━━━━━━━━━━\u001b[0m\u001b[37m\u001b[0m \u001b[1m0s\u001b[0m 16ms/step - accuracy: 0.8547 - loss: 0.4724 - val_accuracy: 0.9000 - val_loss: 0.3696\n",
            "Epoch 68/100\n",
            "\u001b[1m3/3\u001b[0m \u001b[32m━━━━━━━━━━━━━━━━━━━━\u001b[0m\u001b[37m\u001b[0m \u001b[1m0s\u001b[0m 17ms/step - accuracy: 0.8859 - loss: 0.4396 - val_accuracy: 0.9000 - val_loss: 0.3671\n",
            "Epoch 69/100\n",
            "\u001b[1m3/3\u001b[0m \u001b[32m━━━━━━━━━━━━━━━━━━━━\u001b[0m\u001b[37m\u001b[0m \u001b[1m0s\u001b[0m 16ms/step - accuracy: 0.8351 - loss: 0.4835 - val_accuracy: 0.9000 - val_loss: 0.3646\n",
            "Epoch 70/100\n",
            "\u001b[1m3/3\u001b[0m \u001b[32m━━━━━━━━━━━━━━━━━━━━\u001b[0m\u001b[37m\u001b[0m \u001b[1m0s\u001b[0m 16ms/step - accuracy: 0.8703 - loss: 0.4584 - val_accuracy: 0.9000 - val_loss: 0.3615\n",
            "Epoch 71/100\n",
            "\u001b[1m3/3\u001b[0m \u001b[32m━━━━━━━━━━━━━━━━━━━━\u001b[0m\u001b[37m\u001b[0m \u001b[1m0s\u001b[0m 17ms/step - accuracy: 0.8664 - loss: 0.4475 - val_accuracy: 0.9000 - val_loss: 0.3583\n",
            "Epoch 72/100\n",
            "\u001b[1m3/3\u001b[0m \u001b[32m━━━━━━━━━━━━━━━━━━━━\u001b[0m\u001b[37m\u001b[0m \u001b[1m0s\u001b[0m 17ms/step - accuracy: 0.8703 - loss: 0.4595 - val_accuracy: 0.9000 - val_loss: 0.3552\n",
            "Epoch 73/100\n",
            "\u001b[1m3/3\u001b[0m \u001b[32m━━━━━━━━━━━━━━━━━━━━\u001b[0m\u001b[37m\u001b[0m \u001b[1m0s\u001b[0m 23ms/step - accuracy: 0.8859 - loss: 0.4380 - val_accuracy: 0.9000 - val_loss: 0.3519\n",
            "Epoch 74/100\n",
            "\u001b[1m3/3\u001b[0m \u001b[32m━━━━━━━━━━━━━━━━━━━━\u001b[0m\u001b[37m\u001b[0m \u001b[1m0s\u001b[0m 21ms/step - accuracy: 0.8703 - loss: 0.4488 - val_accuracy: 0.9000 - val_loss: 0.3490\n",
            "Epoch 75/100\n",
            "\u001b[1m3/3\u001b[0m \u001b[32m━━━━━━━━━━━━━━━━━━━━\u001b[0m\u001b[37m\u001b[0m \u001b[1m0s\u001b[0m 20ms/step - accuracy: 0.8703 - loss: 0.4379 - val_accuracy: 0.9000 - val_loss: 0.3464\n",
            "Epoch 76/100\n",
            "\u001b[1m3/3\u001b[0m \u001b[32m━━━━━━━━━━━━━━━━━━━━\u001b[0m\u001b[37m\u001b[0m \u001b[1m0s\u001b[0m 18ms/step - accuracy: 0.8742 - loss: 0.4365 - val_accuracy: 0.9000 - val_loss: 0.3441\n",
            "Epoch 77/100\n",
            "\u001b[1m3/3\u001b[0m \u001b[32m━━━━━━━━━━━━━━━━━━━━\u001b[0m\u001b[37m\u001b[0m \u001b[1m0s\u001b[0m 17ms/step - accuracy: 0.8508 - loss: 0.4525 - val_accuracy: 0.9000 - val_loss: 0.3412\n",
            "Epoch 78/100\n",
            "\u001b[1m3/3\u001b[0m \u001b[32m━━━━━━━━━━━━━━━━━━━━\u001b[0m\u001b[37m\u001b[0m \u001b[1m0s\u001b[0m 23ms/step - accuracy: 0.8742 - loss: 0.4327 - val_accuracy: 0.9000 - val_loss: 0.3382\n",
            "Epoch 79/100\n",
            "\u001b[1m3/3\u001b[0m \u001b[32m━━━━━━━━━━━━━━━━━━━━\u001b[0m\u001b[37m\u001b[0m \u001b[1m0s\u001b[0m 31ms/step - accuracy: 0.8742 - loss: 0.4230 - val_accuracy: 0.9500 - val_loss: 0.3351\n",
            "Epoch 80/100\n",
            "\u001b[1m3/3\u001b[0m \u001b[32m━━━━━━━━━━━━━━━━━━━━\u001b[0m\u001b[37m\u001b[0m \u001b[1m0s\u001b[0m 24ms/step - accuracy: 0.8586 - loss: 0.4449 - val_accuracy: 0.9000 - val_loss: 0.3324\n",
            "Epoch 81/100\n",
            "\u001b[1m3/3\u001b[0m \u001b[32m━━━━━━━━━━━━━━━━━━━━\u001b[0m\u001b[37m\u001b[0m \u001b[1m0s\u001b[0m 21ms/step - accuracy: 0.8820 - loss: 0.4154 - val_accuracy: 0.9000 - val_loss: 0.3294\n",
            "Epoch 82/100\n",
            "\u001b[1m3/3\u001b[0m \u001b[32m━━━━━━━━━━━━━━━━━━━━\u001b[0m\u001b[37m\u001b[0m \u001b[1m0s\u001b[0m 22ms/step - accuracy: 0.8742 - loss: 0.4297 - val_accuracy: 0.9000 - val_loss: 0.3264\n",
            "Epoch 83/100\n",
            "\u001b[1m3/3\u001b[0m \u001b[32m━━━━━━━━━━━━━━━━━━━━\u001b[0m\u001b[37m\u001b[0m \u001b[1m0s\u001b[0m 24ms/step - accuracy: 0.8625 - loss: 0.4374 - val_accuracy: 0.9000 - val_loss: 0.3232\n",
            "Epoch 84/100\n",
            "\u001b[1m3/3\u001b[0m \u001b[32m━━━━━━━━━━━━━━━━━━━━\u001b[0m\u001b[37m\u001b[0m \u001b[1m0s\u001b[0m 37ms/step - accuracy: 0.8859 - loss: 0.4130 - val_accuracy: 0.9500 - val_loss: 0.3203\n",
            "Epoch 85/100\n",
            "\u001b[1m3/3\u001b[0m \u001b[32m━━━━━━━━━━━━━━━━━━━━\u001b[0m\u001b[37m\u001b[0m \u001b[1m0s\u001b[0m 22ms/step - accuracy: 0.9016 - loss: 0.3913 - val_accuracy: 0.9500 - val_loss: 0.3177\n",
            "Epoch 86/100\n",
            "\u001b[1m3/3\u001b[0m \u001b[32m━━━━━━━━━━━━━━━━━━━━\u001b[0m\u001b[37m\u001b[0m \u001b[1m0s\u001b[0m 36ms/step - accuracy: 0.8547 - loss: 0.4490 - val_accuracy: 0.9500 - val_loss: 0.3157\n",
            "Epoch 87/100\n",
            "\u001b[1m3/3\u001b[0m \u001b[32m━━━━━━━━━━━━━━━━━━━━\u001b[0m\u001b[37m\u001b[0m \u001b[1m0s\u001b[0m 22ms/step - accuracy: 0.8859 - loss: 0.3924 - val_accuracy: 0.9500 - val_loss: 0.3132\n",
            "Epoch 88/100\n",
            "\u001b[1m3/3\u001b[0m \u001b[32m━━━━━━━━━━━━━━━━━━━━\u001b[0m\u001b[37m\u001b[0m \u001b[1m0s\u001b[0m 22ms/step - accuracy: 0.8742 - loss: 0.4144 - val_accuracy: 1.0000 - val_loss: 0.3110\n",
            "Epoch 89/100\n",
            "\u001b[1m3/3\u001b[0m \u001b[32m━━━━━━━━━━━━━━━━━━━━\u001b[0m\u001b[37m\u001b[0m \u001b[1m0s\u001b[0m 24ms/step - accuracy: 0.8664 - loss: 0.4163 - val_accuracy: 1.0000 - val_loss: 0.3087\n",
            "Epoch 90/100\n",
            "\u001b[1m3/3\u001b[0m \u001b[32m━━━━━━━━━━━━━━━━━━━━\u001b[0m\u001b[37m\u001b[0m \u001b[1m0s\u001b[0m 34ms/step - accuracy: 0.8859 - loss: 0.3989 - val_accuracy: 1.0000 - val_loss: 0.3060\n",
            "Epoch 91/100\n",
            "\u001b[1m3/3\u001b[0m \u001b[32m━━━━━━━━━━━━━━━━━━━━\u001b[0m\u001b[37m\u001b[0m \u001b[1m0s\u001b[0m 34ms/step - accuracy: 0.8742 - loss: 0.3960 - val_accuracy: 1.0000 - val_loss: 0.3036\n",
            "Epoch 92/100\n",
            "\u001b[1m3/3\u001b[0m \u001b[32m━━━━━━━━━━━━━━━━━━━━\u001b[0m\u001b[37m\u001b[0m \u001b[1m0s\u001b[0m 26ms/step - accuracy: 0.8703 - loss: 0.4154 - val_accuracy: 0.9500 - val_loss: 0.3013\n",
            "Epoch 93/100\n",
            "\u001b[1m3/3\u001b[0m \u001b[32m━━━━━━━━━━━━━━━━━━━━\u001b[0m\u001b[37m\u001b[0m \u001b[1m0s\u001b[0m 35ms/step - accuracy: 0.8898 - loss: 0.3838 - val_accuracy: 0.9500 - val_loss: 0.2986\n",
            "Epoch 94/100\n",
            "\u001b[1m3/3\u001b[0m \u001b[32m━━━━━━━━━━━━━━━━━━━━\u001b[0m\u001b[37m\u001b[0m \u001b[1m0s\u001b[0m 22ms/step - accuracy: 0.8937 - loss: 0.3931 - val_accuracy: 0.9500 - val_loss: 0.2959\n",
            "Epoch 95/100\n",
            "\u001b[1m3/3\u001b[0m \u001b[32m━━━━━━━━━━━━━━━━━━━━\u001b[0m\u001b[37m\u001b[0m \u001b[1m0s\u001b[0m 32ms/step - accuracy: 0.8586 - loss: 0.4122 - val_accuracy: 0.9500 - val_loss: 0.2933\n",
            "Epoch 96/100\n",
            "\u001b[1m3/3\u001b[0m \u001b[32m━━━━━━━━━━━━━━━━━━━━\u001b[0m\u001b[37m\u001b[0m \u001b[1m0s\u001b[0m 28ms/step - accuracy: 0.8664 - loss: 0.4044 - val_accuracy: 0.9500 - val_loss: 0.2905\n",
            "Epoch 97/100\n",
            "\u001b[1m3/3\u001b[0m \u001b[32m━━━━━━━━━━━━━━━━━━━━\u001b[0m\u001b[37m\u001b[0m \u001b[1m0s\u001b[0m 18ms/step - accuracy: 0.8898 - loss: 0.3617 - val_accuracy: 0.9500 - val_loss: 0.2875\n",
            "Epoch 98/100\n",
            "\u001b[1m3/3\u001b[0m \u001b[32m━━━━━━━━━━━━━━━━━━━━\u001b[0m\u001b[37m\u001b[0m \u001b[1m0s\u001b[0m 21ms/step - accuracy: 0.8703 - loss: 0.4051 - val_accuracy: 0.9500 - val_loss: 0.2852\n",
            "Epoch 99/100\n",
            "\u001b[1m3/3\u001b[0m \u001b[32m━━━━━━━━━━━━━━━━━━━━\u001b[0m\u001b[37m\u001b[0m \u001b[1m0s\u001b[0m 21ms/step - accuracy: 0.8898 - loss: 0.3557 - val_accuracy: 0.9500 - val_loss: 0.2828\n",
            "Epoch 100/100\n",
            "\u001b[1m3/3\u001b[0m \u001b[32m━━━━━━━━━━━━━━━━━━━━\u001b[0m\u001b[37m\u001b[0m \u001b[1m0s\u001b[0m 17ms/step - accuracy: 0.8781 - loss: 0.3665 - val_accuracy: 0.9500 - val_loss: 0.2806\n"
          ]
        }
      ]
    },
    {
      "cell_type": "code",
      "source": [
        "model.get_weights()"
      ],
      "metadata": {
        "colab": {
          "base_uri": "https://localhost:8080/"
        },
        "id": "lHUBfQMKnstc",
        "outputId": "5c3f6d6b-8dd6-42fa-bab2-669cc2ff114b"
      },
      "execution_count": 21,
      "outputs": [
        {
          "output_type": "execute_result",
          "data": {
            "text/plain": [
              "[array([[ 0.84512496, -0.667489  ,  0.22715227, -0.275292  ,  0.5228529 ,\n",
              "         -0.7141769 ,  1.032195  ,  0.8001613 , -0.2690415 ,  0.23097585],\n",
              "        [ 0.6804492 , -0.06577401, -0.337479  ,  1.5721854 , -0.49951038,\n",
              "          1.9966434 , -1.072665  , -1.2708877 ,  1.0494621 , -0.3065139 ]],\n",
              "       dtype=float32),\n",
              " array([ 0.03992169, -0.03519898, -0.02758583,  0.12333138, -0.13969898,\n",
              "         0.05023683, -0.10447536,  0.10973487,  0.17877434, -0.08526286],\n",
              "       dtype=float32),\n",
              " array([[ 0.65337646, -0.22145909,  0.13520811,  0.02671004,  0.6906297 ,\n",
              "         -0.0709015 ,  0.26382902, -0.2562085 , -0.00805106,  0.34597212],\n",
              "        [ 0.17983365,  0.63225156, -0.22237116, -0.5132556 ,  0.26407212,\n",
              "          0.17870057,  0.23839416,  0.75403684, -0.06466488, -0.09058355],\n",
              "        [-0.13690272, -0.14986715, -0.42956874,  0.19543965, -0.15461622,\n",
              "          0.34558907, -0.1387689 ,  0.526489  ,  0.20002547, -0.0394399 ],\n",
              "        [-0.8721418 , -0.3680186 , -0.15081854, -0.12497891,  0.51714027,\n",
              "         -0.01031117, -0.19471137,  0.04153363, -0.33723873,  0.24241525],\n",
              "        [-0.11265336, -0.45538822,  0.30070964, -0.33931124, -0.16822618,\n",
              "         -0.03917237, -0.24864969, -0.0032795 , -0.24148948,  0.05473415],\n",
              "        [-0.3830153 ,  0.18279631, -0.7803218 , -0.13417314,  0.13387355,\n",
              "          0.29971063, -0.06472261,  0.34449333, -0.34893027,  0.13026431],\n",
              "        [ 0.25681204,  0.00225756, -0.21546109, -0.39090937, -0.4062924 ,\n",
              "          0.12831895, -0.08628982, -0.32075828,  0.28911296,  0.18321097],\n",
              "        [ 0.39761642, -0.11209621, -0.4002935 ,  0.03599915,  0.21432136,\n",
              "         -0.1126577 , -0.26623452, -0.30866665,  0.56367713,  0.40712944],\n",
              "        [-0.37856802,  0.06644996,  0.49106455, -0.03354968,  0.2871243 ,\n",
              "          0.17834795, -0.8306155 , -0.13224375,  0.0659483 ,  0.11570604],\n",
              "        [ 0.10942767,  0.02926226, -0.4115671 , -0.25868547, -0.6720904 ,\n",
              "         -0.03011061, -0.30449942, -0.08334371, -0.2425229 , -0.09371866]],\n",
              "       dtype=float32),\n",
              " array([-0.07946265,  0.07393558, -0.02885906,  0.        ,  0.0646255 ,\n",
              "         0.0466475 ,  0.00073451, -0.03118065,  0.05717434, -0.01952659],\n",
              "       dtype=float32),\n",
              " array([[-2.90952295e-01, -3.41384351e-01, -1.90152079e-01,\n",
              "         -4.14508879e-01, -1.23278581e-01, -1.97339609e-01,\n",
              "         -6.57037437e-01,  2.47502193e-01,  2.45322615e-01,\n",
              "         -2.90020227e-01],\n",
              "        [-1.16667248e-01, -4.78148580e-01, -2.75715590e-01,\n",
              "          1.19102292e-01, -3.84122014e-01,  1.48224100e-01,\n",
              "         -2.99691223e-02, -3.83110275e-03,  5.30848622e-01,\n",
              "          7.35708475e-01],\n",
              "        [-5.93636692e-01, -3.34508061e-01,  4.75309491e-01,\n",
              "         -1.87182382e-01,  1.53630406e-01, -3.41159463e-01,\n",
              "         -4.98908795e-02,  1.02023765e-01,  1.79727837e-01,\n",
              "          4.01050114e-04],\n",
              "        [ 2.22255394e-01, -5.37504703e-02, -2.96403646e-01,\n",
              "         -1.11945540e-01, -3.89426440e-01, -3.01631540e-01,\n",
              "          1.50964379e-01, -2.46754453e-01, -1.40576005e-01,\n",
              "         -1.25106573e-01],\n",
              "        [ 4.50387776e-01,  3.15744191e-01,  1.23522364e-01,\n",
              "         -7.43016720e-01, -2.87695944e-01,  2.90813208e-01,\n",
              "         -4.62828189e-01, -5.26244044e-01,  3.80560964e-01,\n",
              "          3.89916509e-01],\n",
              "        [ 5.84155738e-01, -1.21526100e-01,  5.55198431e-01,\n",
              "         -2.31808975e-01, -2.06286579e-01, -5.78990877e-01,\n",
              "          1.17900521e-02,  2.32452735e-01,  1.51321352e-01,\n",
              "          2.51196235e-01],\n",
              "        [ 3.28688025e-01,  5.88762105e-01,  2.03456789e-01,\n",
              "          1.67609811e-01,  3.43464874e-02,  3.67502898e-01,\n",
              "          6.61903173e-02,  1.23081565e-01,  5.28927088e-01,\n",
              "          7.67798424e-01],\n",
              "        [ 1.00771569e-01,  1.59241464e-02,  5.05449176e-01,\n",
              "          3.27992402e-02, -1.63540244e-01,  2.51880050e-01,\n",
              "         -3.09042215e-01, -4.39722985e-02,  2.98377872e-01,\n",
              "          4.76004183e-01],\n",
              "        [-3.78507465e-01, -4.81014639e-01, -2.78360546e-01,\n",
              "         -2.04579249e-01,  4.08943556e-02,  1.54457375e-01,\n",
              "          1.18164636e-01, -5.10019600e-01, -9.19340253e-01,\n",
              "         -1.56186372e-01],\n",
              "        [ 1.33991882e-01, -3.26479435e-01,  1.53410360e-01,\n",
              "         -6.20103478e-01, -2.49385640e-01, -9.27845165e-02,\n",
              "         -4.03838485e-01, -2.02162579e-01, -9.57531109e-02,\n",
              "          7.21182227e-02]], dtype=float32),\n",
              " array([ 0.06654228, -0.00324701,  0.07675906,  0.        ,  0.        ,\n",
              "         0.02875134,  0.        , -0.01166315,  0.01939003,  0.04376821],\n",
              "       dtype=float32),\n",
              " array([[ 7.02287555e-02,  5.05771220e-01,  3.06691658e-02,\n",
              "         -1.52184367e-01, -1.42595738e-01,  3.00511764e-03,\n",
              "         -5.62027454e-01,  4.42351460e-01, -5.39064081e-03,\n",
              "         -4.65683520e-01],\n",
              "        [ 6.02586329e-01,  4.77584824e-02, -5.45549095e-01,\n",
              "          1.34504631e-01, -4.24144894e-01,  3.70155908e-02,\n",
              "          5.98151353e-04,  1.76260635e-01, -9.60289165e-02,\n",
              "         -4.41996008e-01],\n",
              "        [-9.54757482e-02, -1.46267697e-01,  2.22868234e-01,\n",
              "         -9.69402771e-03,  9.61569399e-02,  3.19655061e-01,\n",
              "          7.29330555e-02,  4.99578536e-01,  9.33939591e-02,\n",
              "          5.59650064e-01],\n",
              "        [ 2.33887479e-01,  1.01223193e-01, -1.30302474e-01,\n",
              "          1.85904540e-02,  1.63819864e-01,  2.87531376e-01,\n",
              "          1.35235012e-01,  1.84934273e-01,  3.60459536e-02,\n",
              "          3.84515613e-01],\n",
              "        [ 1.56794533e-01,  5.35221756e-01, -1.98305219e-01,\n",
              "         -2.87911832e-01,  1.37159929e-01,  3.73741567e-01,\n",
              "         -1.60005823e-01,  4.71259058e-01,  1.12463959e-01,\n",
              "         -3.35962474e-01],\n",
              "        [-1.02912724e+00,  2.59525746e-01,  4.36483532e-01,\n",
              "         -1.56551301e-02,  1.93635419e-01,  2.70614535e-01,\n",
              "          3.86664093e-01,  5.17248034e-01,  1.96485132e-01,\n",
              "          2.21842043e-02],\n",
              "        [-1.11024797e-01, -7.25866407e-02,  5.76040268e-01,\n",
              "          2.53989398e-01,  1.51631013e-02, -1.46120846e-01,\n",
              "          4.33819532e-01, -1.13195606e-01,  6.42695904e-01,\n",
              "          2.96852142e-01],\n",
              "        [ 2.95529246e-01,  4.07029897e-01,  1.93004496e-02,\n",
              "          1.09538250e-01,  1.28627181e-01,  2.86104921e-02,\n",
              "          2.97882438e-01,  3.24367315e-01,  3.97098154e-01,\n",
              "         -1.98351681e-01],\n",
              "        [ 7.92537704e-02,  2.97676176e-01,  6.85784817e-01,\n",
              "          4.18991268e-01,  1.48478210e-01,  2.26925790e-01,\n",
              "          1.30391512e-02,  6.49545848e-01,  1.15100704e-01,\n",
              "         -3.40320945e-01],\n",
              "        [-1.50097147e-01,  6.33480489e-01, -5.11512384e-02,\n",
              "         -2.58141071e-01, -1.59327045e-01,  3.47454131e-01,\n",
              "         -1.45639539e-01,  3.86973053e-01, -3.09759438e-01,\n",
              "         -2.99661070e-01]], dtype=float32),\n",
              " array([ 0.29152113, -0.01572343, -0.02378079,  0.27816838,  0.28885382,\n",
              "        -0.01730138,  0.39366844, -0.02243633, -0.03435915, -0.0141997 ],\n",
              "       dtype=float32),\n",
              " array([[ 0.71105385],\n",
              "        [-0.46188852],\n",
              "        [-0.42434666],\n",
              "        [ 0.52545035],\n",
              "        [ 0.66070306],\n",
              "        [-0.35086823],\n",
              "        [ 0.4058746 ],\n",
              "        [-0.64319146],\n",
              "        [-0.20204484],\n",
              "        [-0.0838108 ]], dtype=float32),\n",
              " array([0.24604082], dtype=float32)]"
            ]
          },
          "metadata": {},
          "execution_count": 21
        }
      ]
    },
    {
      "cell_type": "code",
      "source": [
        "from mlxtend.plotting import plot_decision_regions\n",
        "plot_decision_regions(X,y.astype('int'), clf=model, legend=2)"
      ],
      "metadata": {
        "colab": {
          "base_uri": "https://localhost:8080/",
          "height": 465
        },
        "id": "gHpdiD2In689",
        "outputId": "2a1108fe-c2bc-43e3-8631-ce086654c465"
      },
      "execution_count": 22,
      "outputs": [
        {
          "output_type": "stream",
          "name": "stdout",
          "text": [
            "\u001b[1m9600/9600\u001b[0m \u001b[32m━━━━━━━━━━━━━━━━━━━━\u001b[0m\u001b[37m\u001b[0m \u001b[1m13s\u001b[0m 1ms/step\n"
          ]
        },
        {
          "output_type": "execute_result",
          "data": {
            "text/plain": [
              "<Axes: >"
            ]
          },
          "metadata": {},
          "execution_count": 22
        },
        {
          "output_type": "display_data",
          "data": {
            "text/plain": [
              "<Figure size 640x480 with 1 Axes>"
            ],
            "image/png": "[encoded data removed]"
          },
          "metadata": {}
        }
      ]
    },
    {
      "cell_type": "code",
      "source": [
        "(np.random.randn(10,10)*0.01).min()"
      ],
      "metadata": {
        "colab": {
          "base_uri": "https://localhost:8080/"
        },
        "id": "eB4x3NXioJzM",
        "outputId": "7a6eecc8-aab5-4647-9b43-c0840302f0bd"
      },
      "execution_count": 23,
      "outputs": [
        {
          "output_type": "execute_result",
          "data": {
            "text/plain": [
              "-0.02368098926339636"
            ]
          },
          "metadata": {},
          "execution_count": 23
        }
      ]
    },
    {
      "cell_type": "code",
      "source": [
        "(np.random.randn(10,10)*0.01).max()"
      ],
      "metadata": {
        "colab": {
          "base_uri": "https://localhost:8080/"
        },
        "id": "4CVlxScGoPDO",
        "outputId": "956283ef-3dfb-4537-850a-3334bf0740fb"
      },
      "execution_count": 24,
      "outputs": [
        {
          "output_type": "execute_result",
          "data": {
            "text/plain": [
              "0.028078707996425308"
            ]
          },
          "metadata": {},
          "execution_count": 24
        }
      ]
    },
    {
      "cell_type": "code",
      "source": [
        "plt.plot(history.history['loss'],label='training loss')\n",
        "plt.plot(history.history['val_loss'],label='validation loss')\n",
        "plt.legend(['loss','val_loss'])\n"
      ],
      "metadata": {
        "colab": {
          "base_uri": "https://localhost:8080/",
          "height": 451
        },
        "id": "Z8AcAtb1ofPD",
        "outputId": "bd6d8fbc-44ce-44c8-a2ea-7a34d86b1b67"
      },
      "execution_count": 27,
      "outputs": [
        {
          "output_type": "execute_result",
          "data": {
            "text/plain": [
              "<matplotlib.legend.Legend at 0x7f2a3e6b85e0>"
            ]
          },
          "metadata": {},
          "execution_count": 27
        },
        {
          "output_type": "display_data",
          "data": {
            "text/plain": [
              "<Figure size 640x480 with 1 Axes>"
            ],
            "image/png": "[encoded data removed]"
          },
          "metadata": {}
        }
      ]
    }
  ]
}